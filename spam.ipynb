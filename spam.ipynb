{
 "cells": [
  {
   "cell_type": "markdown",
   "metadata": {
    "id": "RjNPV8WxSIFk"
   },
   "source": [
    "#SPAM CLASSIFICATION"
   ]
  },
  {
   "cell_type": "code",
   "execution_count": 2,
   "metadata": {
    "colab": {
     "base_uri": "https://localhost:8080/"
    },
    "id": "22lcy0sVyBHT",
    "outputId": "9490296f-e0bf-4868-fbf2-03f0ee0a6ed6"
   },
   "outputs": [
    {
     "name": "stderr",
     "output_type": "stream",
     "text": [
      "[nltk_data] Downloading package stopwords to /Users/mac/nltk_data...\n",
      "[nltk_data]   Package stopwords is already up-to-date!\n",
      "[nltk_data] Downloading package punkt to /Users/mac/nltk_data...\n",
      "[nltk_data]   Package punkt is already up-to-date!\n",
      "[nltk_data] Downloading package wordnet to /Users/mac/nltk_data...\n",
      "[nltk_data]   Package wordnet is already up-to-date!\n"
     ]
    },
    {
     "data": {
      "text/plain": [
       "True"
      ]
     },
     "execution_count": 2,
     "metadata": {},
     "output_type": "execute_result"
    }
   ],
   "source": [
    "import nltk\n",
    "nltk.download('stopwords')\n",
    "nltk.download('punkt')\n",
    "nltk.download('wordnet')\n"
   ]
  },
  {
   "cell_type": "code",
   "execution_count": 5,
   "metadata": {
    "id": "8Fay-BvYxto_"
   },
   "outputs": [],
   "source": [
    "#Importing all the libraries to be used\n",
    "import warnings\n",
    "import matplotlib.pyplot as plt\n",
    "import seaborn as sns\n",
    "import numpy as np \n",
    "import pandas as pd\n",
    "import re\n",
    "import nltk\n",
    "from nltk.corpus import stopwords\n",
    "from nltk.stem.porter import PorterStemmer\n",
    "from nltk.stem import WordNetLemmatizer\n",
    "from sklearn.feature_extraction.text import TfidfVectorizer\n",
    "from sklearn.preprocessing import LabelEncoder\n",
    "from sklearn.model_selection import train_test_split\n",
    "from sklearn.pipeline import Pipeline    \n",
    "from sklearn.naive_bayes import MultinomialNB\n",
    "from sklearn.ensemble import RandomForestClassifier\n",
    "from sklearn.neighbors import KNeighborsClassifier\n",
    "from sklearn.svm import SVC\n",
    "from sklearn.model_selection import cross_val_score\n",
    "from matplotlib.colors import ListedColormap\n",
    "from sklearn.metrics import precision_score, recall_score, confusion_matrix, classification_report, accuracy_score, f1_score\n",
    "from sklearn import metrics"
   ]
  },
  {
   "cell_type": "code",
   "execution_count": null,
   "metadata": {
    "colab": {
     "base_uri": "https://localhost:8080/"
    },
    "id": "gY5omDJsyRS5",
    "outputId": "f0f92b5a-f7e5-44b3-8b5d-eb0149215558"
   },
   "outputs": [
    {
     "name": "stdout",
     "output_type": "stream",
     "text": [
      "Drive already mounted at /gdrive; to attempt to forcibly remount, call drive.mount(\"/gdrive\", force_remount=True).\n",
      "/gdrive\n"
     ]
    }
   ],
   "source": [
    "from google.colab import drive\n",
    "drive.mount('/gdrive')\n",
    "%cd /gdrive\n"
   ]
  },
  {
   "cell_type": "code",
   "execution_count": null,
   "metadata": {
    "colab": {
     "base_uri": "https://localhost:8080/",
     "height": 423
    },
    "id": "xlvd0tzVzUWj",
    "outputId": "08c60bbc-5c48-4ca3-cede-8910e2ae683f"
   },
   "outputs": [
    {
     "data": {
      "text/html": [
       "\n",
       "  <div id=\"df-64c7f079-ffe0-4204-a1f3-d427723090fd\">\n",
       "    <div class=\"colab-df-container\">\n",
       "      <div>\n",
       "<style scoped>\n",
       "    .dataframe tbody tr th:only-of-type {\n",
       "        vertical-align: middle;\n",
       "    }\n",
       "\n",
       "    .dataframe tbody tr th {\n",
       "        vertical-align: top;\n",
       "    }\n",
       "\n",
       "    .dataframe thead th {\n",
       "        text-align: right;\n",
       "    }\n",
       "</style>\n",
       "<table border=\"1\" class=\"dataframe\">\n",
       "  <thead>\n",
       "    <tr style=\"text-align: right;\">\n",
       "      <th></th>\n",
       "      <th>label</th>\n",
       "      <th>messages</th>\n",
       "    </tr>\n",
       "  </thead>\n",
       "  <tbody>\n",
       "    <tr>\n",
       "      <th>0</th>\n",
       "      <td>ham</td>\n",
       "      <td>Ok lar... Joking wif u oni...</td>\n",
       "    </tr>\n",
       "    <tr>\n",
       "      <th>1</th>\n",
       "      <td>spam</td>\n",
       "      <td>Free entry in 2 a wkly comp to win FA Cup fina...</td>\n",
       "    </tr>\n",
       "    <tr>\n",
       "      <th>2</th>\n",
       "      <td>ham</td>\n",
       "      <td>U dun say so early hor... U c already then say...</td>\n",
       "    </tr>\n",
       "    <tr>\n",
       "      <th>3</th>\n",
       "      <td>ham</td>\n",
       "      <td>Nah I don't think he goes to usf, he lives aro...</td>\n",
       "    </tr>\n",
       "    <tr>\n",
       "      <th>4</th>\n",
       "      <td>spam</td>\n",
       "      <td>FreeMsg Hey there darling it's been 3 week's n...</td>\n",
       "    </tr>\n",
       "    <tr>\n",
       "      <th>...</th>\n",
       "      <td>...</td>\n",
       "      <td>...</td>\n",
       "    </tr>\n",
       "    <tr>\n",
       "      <th>495</th>\n",
       "      <td>ham</td>\n",
       "      <td>Got meh... When?</td>\n",
       "    </tr>\n",
       "    <tr>\n",
       "      <th>496</th>\n",
       "      <td>ham</td>\n",
       "      <td>Nope... Think i will go for it on monday... So...</td>\n",
       "    </tr>\n",
       "    <tr>\n",
       "      <th>497</th>\n",
       "      <td>ham</td>\n",
       "      <td>Some of them told accenture is not confirm. Is...</td>\n",
       "    </tr>\n",
       "    <tr>\n",
       "      <th>498</th>\n",
       "      <td>ham</td>\n",
       "      <td>Kate jackson rec center before 7ish, right?</td>\n",
       "    </tr>\n",
       "    <tr>\n",
       "      <th>499</th>\n",
       "      <td>ham</td>\n",
       "      <td>Dear i have reache room</td>\n",
       "    </tr>\n",
       "  </tbody>\n",
       "</table>\n",
       "<p>500 rows × 2 columns</p>\n",
       "</div>\n",
       "      <button class=\"colab-df-convert\" onclick=\"convertToInteractive('df-64c7f079-ffe0-4204-a1f3-d427723090fd')\"\n",
       "              title=\"Convert this dataframe to an interactive table.\"\n",
       "              style=\"display:none;\">\n",
       "        \n",
       "  <svg xmlns=\"http://www.w3.org/2000/svg\" height=\"24px\"viewBox=\"0 0 24 24\"\n",
       "       width=\"24px\">\n",
       "    <path d=\"M0 0h24v24H0V0z\" fill=\"none\"/>\n",
       "    <path d=\"M18.56 5.44l.94 2.06.94-2.06 2.06-.94-2.06-.94-.94-2.06-.94 2.06-2.06.94zm-11 1L8.5 8.5l.94-2.06 2.06-.94-2.06-.94L8.5 2.5l-.94 2.06-2.06.94zm10 10l.94 2.06.94-2.06 2.06-.94-2.06-.94-.94-2.06-.94 2.06-2.06.94z\"/><path d=\"M17.41 7.96l-1.37-1.37c-.4-.4-.92-.59-1.43-.59-.52 0-1.04.2-1.43.59L10.3 9.45l-7.72 7.72c-.78.78-.78 2.05 0 2.83L4 21.41c.39.39.9.59 1.41.59.51 0 1.02-.2 1.41-.59l7.78-7.78 2.81-2.81c.8-.78.8-2.07 0-2.86zM5.41 20L4 18.59l7.72-7.72 1.47 1.35L5.41 20z\"/>\n",
       "  </svg>\n",
       "      </button>\n",
       "      \n",
       "  <style>\n",
       "    .colab-df-container {\n",
       "      display:flex;\n",
       "      flex-wrap:wrap;\n",
       "      gap: 12px;\n",
       "    }\n",
       "\n",
       "    .colab-df-convert {\n",
       "      background-color: #E8F0FE;\n",
       "      border: none;\n",
       "      border-radius: 50%;\n",
       "      cursor: pointer;\n",
       "      display: none;\n",
       "      fill: #1967D2;\n",
       "      height: 32px;\n",
       "      padding: 0 0 0 0;\n",
       "      width: 32px;\n",
       "    }\n",
       "\n",
       "    .colab-df-convert:hover {\n",
       "      background-color: #E2EBFA;\n",
       "      box-shadow: 0px 1px 2px rgba(60, 64, 67, 0.3), 0px 1px 3px 1px rgba(60, 64, 67, 0.15);\n",
       "      fill: #174EA6;\n",
       "    }\n",
       "\n",
       "    [theme=dark] .colab-df-convert {\n",
       "      background-color: #3B4455;\n",
       "      fill: #D2E3FC;\n",
       "    }\n",
       "\n",
       "    [theme=dark] .colab-df-convert:hover {\n",
       "      background-color: #434B5C;\n",
       "      box-shadow: 0px 1px 3px 1px rgba(0, 0, 0, 0.15);\n",
       "      filter: drop-shadow(0px 1px 2px rgba(0, 0, 0, 0.3));\n",
       "      fill: #FFFFFF;\n",
       "    }\n",
       "  </style>\n",
       "\n",
       "      <script>\n",
       "        const buttonEl =\n",
       "          document.querySelector('#df-64c7f079-ffe0-4204-a1f3-d427723090fd button.colab-df-convert');\n",
       "        buttonEl.style.display =\n",
       "          google.colab.kernel.accessAllowed ? 'block' : 'none';\n",
       "\n",
       "        async function convertToInteractive(key) {\n",
       "          const element = document.querySelector('#df-64c7f079-ffe0-4204-a1f3-d427723090fd');\n",
       "          const dataTable =\n",
       "            await google.colab.kernel.invokeFunction('convertToInteractive',\n",
       "                                                     [key], {});\n",
       "          if (!dataTable) return;\n",
       "\n",
       "          const docLinkHtml = 'Like what you see? Visit the ' +\n",
       "            '<a target=\"_blank\" href=https://colab.research.google.com/notebooks/data_table.ipynb>data table notebook</a>'\n",
       "            + ' to learn more about interactive tables.';\n",
       "          element.innerHTML = '';\n",
       "          dataTable['output_type'] = 'display_data';\n",
       "          await google.colab.output.renderOutput(dataTable, element);\n",
       "          const docLink = document.createElement('div');\n",
       "          docLink.innerHTML = docLinkHtml;\n",
       "          element.appendChild(docLink);\n",
       "        }\n",
       "      </script>\n",
       "    </div>\n",
       "  </div>\n",
       "  "
      ],
      "text/plain": [
       "    label                                           messages\n",
       "0     ham                      Ok lar... Joking wif u oni...\n",
       "1    spam  Free entry in 2 a wkly comp to win FA Cup fina...\n",
       "2     ham  U dun say so early hor... U c already then say...\n",
       "3     ham  Nah I don't think he goes to usf, he lives aro...\n",
       "4    spam  FreeMsg Hey there darling it's been 3 week's n...\n",
       "..    ...                                                ...\n",
       "495   ham                                   Got meh... When?\n",
       "496   ham  Nope... Think i will go for it on monday... So...\n",
       "497   ham  Some of them told accenture is not confirm. Is...\n",
       "498   ham        Kate jackson rec center before 7ish, right?\n",
       "499   ham                            Dear i have reache room\n",
       "\n",
       "[500 rows x 2 columns]"
      ]
     },
     "execution_count": 92,
     "metadata": {},
     "output_type": "execute_result"
    }
   ],
   "source": [
    "df=pd.read_excel('/gdrive/MyDrive/data.xlsx')\n",
    "\n",
    "# Rename names columns \n",
    "df.columns = ['label', 'messages']\n",
    "df.head(500)\n"
   ]
  },
  {
   "cell_type": "code",
   "execution_count": null,
   "metadata": {
    "colab": {
     "base_uri": "https://localhost:8080/",
     "height": 542
    },
    "id": "xZmwQ6702POp",
    "outputId": "a5455aee-3808-4111-bd97-48ce1927df92"
   },
   "outputs": [
    {
     "data": {
      "text/html": [
       "<html>\n",
       "<head><meta charset=\"utf-8\" /></head>\n",
       "<body>\n",
       "    <div>            <script src=\"https://cdnjs.cloudflare.com/ajax/libs/mathjax/2.7.5/MathJax.js?config=TeX-AMS-MML_SVG\"></script><script type=\"text/javascript\">if (window.MathJax && window.MathJax.Hub && window.MathJax.Hub.Config) {window.MathJax.Hub.Config({SVG: {font: \"STIX-Web\"}});}</script>                <script type=\"text/javascript\">window.PlotlyConfig = {MathJaxConfig: 'local'};</script>\n",
       "        <script src=\"https://cdn.plot.ly/plotly-2.18.2.min.js\"></script>                <div id=\"19cb3fae-66d9-40ec-a648-3d235b753b3a\" class=\"plotly-graph-div\" style=\"height:525px; width:100%;\"></div>            <script type=\"text/javascript\">                                    window.PLOTLYENV=window.PLOTLYENV || {};                                    if (document.getElementById(\"19cb3fae-66d9-40ec-a648-3d235b753b3a\")) {                    Plotly.newPlot(                        \"19cb3fae-66d9-40ec-a648-3d235b753b3a\",                        [{\"alignmentgroup\":\"True\",\"bingroup\":\"x\",\"hovertemplate\":\"label=%{x}<br>count=%{y}<extra></extra>\",\"legendgroup\":\"ham\",\"marker\":{\"color\":\"#0be1f0\",\"pattern\":{\"shape\":\"\"}},\"name\":\"ham\",\"offsetgroup\":\"ham\",\"orientation\":\"v\",\"showlegend\":true,\"texttemplate\":\"%{value}\",\"x\":[\"ham\",\"ham\",\"ham\",\"ham\",\"ham\",\"ham\",\"ham\",\"ham\",\"ham\",\"ham\",\"ham\",\"ham\",\"ham\",\"ham\",\"ham\",\"ham\",\"ham\",\"ham\",\"ham\",\"ham\",\"ham\",\"ham\",\"ham\",\"ham\",\"ham\",\"ham\",\"ham\",\"ham\",\"ham\",\"ham\",\"ham\",\"ham\",\"ham\",\"ham\",\"ham\",\"ham\",\"ham\",\"ham\",\"ham\",\"ham\",\"ham\",\"ham\",\"ham\",\"ham\",\"ham\",\"ham\",\"ham\",\"ham\",\"ham\",\"ham\",\"ham\",\"ham\",\"ham\",\"ham\",\"ham\",\"ham\",\"ham\",\"ham\",\"ham\",\"ham\",\"ham\",\"ham\",\"ham\",\"ham\",\"ham\",\"ham\",\"ham\",\"ham\",\"ham\",\"ham\",\"ham\",\"ham\",\"ham\",\"ham\",\"ham\",\"ham\",\"ham\",\"ham\",\"ham\",\"ham\",\"ham\",\"ham\",\"ham\",\"ham\",\"ham\",\"ham\",\"ham\",\"ham\",\"ham\",\"ham\",\"ham\",\"ham\",\"ham\",\"ham\",\"ham\",\"ham\",\"ham\",\"ham\",\"ham\",\"ham\",\"ham\",\"ham\",\"ham\",\"ham\",\"ham\",\"ham\",\"ham\",\"ham\",\"ham\",\"ham\",\"ham\",\"ham\",\"ham\",\"ham\",\"ham\",\"ham\",\"ham\",\"ham\",\"ham\",\"ham\",\"ham\",\"ham\",\"ham\",\"ham\",\"ham\",\"ham\",\"ham\",\"ham\",\"ham\",\"ham\",\"ham\",\"ham\",\"ham\",\"ham\",\"ham\",\"ham\",\"ham\",\"ham\",\"ham\",\"ham\",\"ham\",\"ham\",\"ham\",\"ham\",\"ham\",\"ham\",\"ham\",\"ham\",\"ham\",\"ham\",\"ham\",\"ham\",\"ham\",\"ham\",\"ham\",\"ham\",\"ham\",\"ham\",\"ham\",\"ham\",\"ham\",\"ham\",\"ham\",\"ham\",\"ham\",\"ham\",\"ham\",\"ham\",\"ham\",\"ham\",\"ham\",\"ham\",\"ham\",\"ham\",\"ham\",\"ham\",\"ham\",\"ham\",\"ham\",\"ham\",\"ham\",\"ham\",\"ham\",\"ham\",\"ham\",\"ham\",\"ham\",\"ham\",\"ham\",\"ham\",\"ham\",\"ham\",\"ham\",\"ham\",\"ham\",\"ham\",\"ham\",\"ham\",\"ham\",\"ham\",\"ham\",\"ham\",\"ham\",\"ham\",\"ham\",\"ham\",\"ham\",\"ham\",\"ham\",\"ham\",\"ham\",\"ham\",\"ham\",\"ham\",\"ham\",\"ham\",\"ham\",\"ham\",\"ham\",\"ham\",\"ham\",\"ham\",\"ham\",\"ham\",\"ham\",\"ham\",\"ham\",\"ham\",\"ham\",\"ham\",\"ham\",\"ham\",\"ham\",\"ham\",\"ham\",\"ham\",\"ham\",\"ham\",\"ham\",\"ham\",\"ham\",\"ham\",\"ham\",\"ham\",\"ham\",\"ham\",\"ham\",\"ham\",\"ham\",\"ham\",\"ham\",\"ham\",\"ham\",\"ham\",\"ham\",\"ham\",\"ham\",\"ham\",\"ham\",\"ham\",\"ham\",\"ham\",\"ham\",\"ham\",\"ham\",\"ham\",\"ham\",\"ham\",\"ham\",\"ham\",\"ham\",\"ham\",\"ham\",\"ham\",\"ham\",\"ham\",\"ham\",\"ham\",\"ham\",\"ham\",\"ham\",\"ham\",\"ham\",\"ham\",\"ham\",\"ham\",\"ham\",\"ham\",\"ham\",\"ham\",\"ham\",\"ham\",\"ham\",\"ham\",\"ham\",\"ham\",\"ham\",\"ham\",\"ham\",\"ham\",\"ham\",\"ham\",\"ham\",\"ham\",\"ham\",\"ham\",\"ham\",\"ham\",\"ham\",\"ham\",\"ham\",\"ham\",\"ham\",\"ham\",\"ham\",\"ham\",\"ham\",\"ham\",\"ham\",\"ham\",\"ham\",\"ham\",\"ham\",\"ham\",\"ham\",\"ham\",\"ham\",\"ham\",\"ham\",\"ham\",\"ham\",\"ham\",\"ham\",\"ham\",\"ham\",\"ham\",\"ham\",\"ham\",\"ham\",\"ham\",\"ham\",\"ham\",\"ham\",\"ham\",\"ham\",\"ham\",\"ham\",\"ham\",\"ham\",\"ham\",\"ham\",\"ham\",\"ham\",\"ham\",\"ham\",\"ham\",\"ham\",\"ham\",\"ham\",\"ham\",\"ham\",\"ham\",\"ham\",\"ham\",\"ham\",\"ham\",\"ham\",\"ham\",\"ham\",\"ham\",\"ham\",\"ham\",\"ham\",\"ham\",\"ham\",\"ham\",\"ham\",\"ham\",\"ham\",\"ham\",\"ham\",\"ham\",\"ham\",\"ham\",\"ham\",\"ham\",\"ham\",\"ham\",\"ham\",\"ham\",\"ham\",\"ham\",\"ham\",\"ham\",\"ham\",\"ham\",\"ham\",\"ham\",\"ham\",\"ham\",\"ham\",\"ham\",\"ham\",\"ham\",\"ham\",\"ham\",\"ham\",\"ham\",\"ham\",\"ham\",\"ham\",\"ham\",\"ham\",\"ham\",\"ham\",\"ham\",\"ham\",\"ham\",\"ham\",\"ham\",\"ham\",\"ham\",\"ham\",\"ham\",\"ham\",\"ham\",\"ham\",\"ham\",\"ham\",\"ham\",\"ham\",\"ham\",\"ham\",\"ham\",\"ham\",\"ham\",\"ham\",\"ham\",\"ham\",\"ham\",\"ham\",\"ham\",\"ham\",\"ham\",\"ham\",\"ham\",\"ham\",\"ham\",\"ham\",\"ham\",\"ham\",\"ham\",\"ham\",\"ham\",\"ham\",\"ham\",\"ham\",\"ham\",\"ham\",\"ham\",\"ham\",\"ham\",\"ham\",\"ham\",\"ham\",\"ham\",\"ham\",\"ham\",\"ham\",\"ham\",\"ham\",\"ham\",\"ham\",\"ham\",\"ham\",\"ham\",\"ham\",\"ham\",\"ham\",\"ham\",\"ham\",\"ham\",\"ham\",\"ham\",\"ham\",\"ham\",\"ham\",\"ham\",\"ham\",\"ham\",\"ham\",\"ham\",\"ham\",\"ham\",\"ham\",\"ham\",\"ham\",\"ham\",\"ham\",\"ham\",\"ham\",\"ham\",\"ham\",\"ham\",\"ham\",\"ham\",\"ham\",\"ham\",\"ham\",\"ham\",\"ham\",\"ham\",\"ham\",\"ham\",\"ham\",\"ham\",\"ham\",\"ham\",\"ham\",\"ham\",\"ham\",\"ham\",\"ham\",\"ham\",\"ham\",\"ham\",\"ham\",\"ham\",\"ham\",\"ham\",\"ham\",\"ham\",\"ham\",\"ham\",\"ham\",\"ham\",\"ham\",\"ham\",\"ham\",\"ham\",\"ham\",\"ham\",\"ham\",\"ham\",\"ham\",\"ham\",\"ham\",\"ham\",\"ham\",\"ham\",\"ham\",\"ham\",\"ham\",\"ham\",\"ham\",\"ham\",\"ham\",\"ham\",\"ham\",\"ham\",\"ham\",\"ham\",\"ham\",\"ham\",\"ham\",\"ham\",\"ham\",\"ham\",\"ham\",\"ham\",\"ham\",\"ham\",\"ham\",\"ham\",\"ham\",\"ham\",\"ham\",\"ham\",\"ham\",\"ham\",\"ham\",\"ham\",\"ham\",\"ham\",\"ham\",\"ham\",\"ham\",\"ham\",\"ham\",\"ham\",\"ham\",\"ham\",\"ham\",\"ham\",\"ham\",\"ham\",\"ham\",\"ham\",\"ham\",\"ham\",\"ham\",\"ham\",\"ham\",\"ham\",\"ham\",\"ham\",\"ham\",\"ham\",\"ham\",\"ham\",\"ham\",\"ham\",\"ham\",\"ham\",\"ham\",\"ham\",\"ham\",\"ham\",\"ham\",\"ham\",\"ham\",\"ham\",\"ham\",\"ham\",\"ham\",\"ham\",\"ham\",\"ham\",\"ham\",\"ham\",\"ham\",\"ham\",\"ham\",\"ham\",\"ham\",\"ham\",\"ham\",\"ham\",\"ham\",\"ham\",\"ham\",\"ham\",\"ham\",\"ham\",\"ham\",\"ham\",\"ham\",\"ham\",\"ham\",\"ham\",\"ham\",\"ham\",\"ham\",\"ham\",\"ham\",\"ham\",\"ham\",\"ham\",\"ham\",\"ham\",\"ham\",\"ham\",\"ham\",\"ham\",\"ham\",\"ham\",\"ham\",\"ham\",\"ham\",\"ham\",\"ham\",\"ham\",\"ham\",\"ham\",\"ham\",\"ham\",\"ham\",\"ham\",\"ham\",\"ham\",\"ham\",\"ham\",\"ham\",\"ham\",\"ham\",\"ham\",\"ham\",\"ham\",\"ham\",\"ham\",\"ham\",\"ham\",\"ham\",\"ham\",\"ham\",\"ham\",\"ham\",\"ham\",\"ham\",\"ham\",\"ham\",\"ham\",\"ham\",\"ham\",\"ham\",\"ham\",\"ham\",\"ham\",\"ham\",\"ham\",\"ham\",\"ham\",\"ham\",\"ham\",\"ham\",\"ham\",\"ham\",\"ham\",\"ham\",\"ham\",\"ham\",\"ham\",\"ham\",\"ham\",\"ham\",\"ham\",\"ham\",\"ham\",\"ham\",\"ham\",\"ham\",\"ham\",\"ham\",\"ham\",\"ham\",\"ham\",\"ham\",\"ham\",\"ham\",\"ham\",\"ham\",\"ham\",\"ham\",\"ham\",\"ham\",\"ham\",\"ham\",\"ham\",\"ham\",\"ham\",\"ham\",\"ham\",\"ham\",\"ham\",\"ham\",\"ham\",\"ham\",\"ham\",\"ham\",\"ham\",\"ham\",\"ham\",\"ham\",\"ham\",\"ham\",\"ham\",\"ham\",\"ham\",\"ham\",\"ham\",\"ham\",\"ham\",\"ham\",\"ham\",\"ham\",\"ham\",\"ham\",\"ham\",\"ham\",\"ham\",\"ham\",\"ham\",\"ham\",\"ham\",\"ham\",\"ham\",\"ham\",\"ham\",\"ham\",\"ham\",\"ham\",\"ham\",\"ham\",\"ham\",\"ham\",\"ham\",\"ham\",\"ham\",\"ham\",\"ham\",\"ham\",\"ham\",\"ham\",\"ham\",\"ham\",\"ham\",\"ham\",\"ham\",\"ham\",\"ham\",\"ham\",\"ham\",\"ham\",\"ham\",\"ham\",\"ham\",\"ham\",\"ham\",\"ham\",\"ham\",\"ham\",\"ham\",\"ham\",\"ham\",\"ham\",\"ham\",\"ham\",\"ham\",\"ham\",\"ham\",\"ham\",\"ham\",\"ham\",\"ham\",\"ham\",\"ham\",\"ham\",\"ham\",\"ham\",\"ham\",\"ham\",\"ham\",\"ham\",\"ham\",\"ham\",\"ham\",\"ham\",\"ham\",\"ham\",\"ham\",\"ham\",\"ham\",\"ham\",\"ham\",\"ham\",\"ham\",\"ham\",\"ham\",\"ham\",\"ham\",\"ham\",\"ham\",\"ham\",\"ham\",\"ham\",\"ham\",\"ham\",\"ham\",\"ham\",\"ham\",\"ham\",\"ham\",\"ham\",\"ham\",\"ham\",\"ham\",\"ham\",\"ham\",\"ham\",\"ham\",\"ham\",\"ham\",\"ham\",\"ham\",\"ham\",\"ham\",\"ham\",\"ham\",\"ham\",\"ham\",\"ham\",\"ham\",\"ham\",\"ham\",\"ham\",\"ham\",\"ham\",\"ham\",\"ham\",\"ham\",\"ham\",\"ham\",\"ham\",\"ham\",\"ham\",\"ham\",\"ham\",\"ham\",\"ham\",\"ham\",\"ham\",\"ham\",\"ham\",\"ham\",\"ham\",\"ham\",\"ham\",\"ham\",\"ham\",\"ham\",\"ham\",\"ham\",\"ham\",\"ham\",\"ham\",\"ham\",\"ham\",\"ham\",\"ham\",\"ham\",\"ham\",\"ham\",\"ham\",\"ham\",\"ham\",\"ham\",\"ham\",\"ham\",\"ham\",\"ham\",\"ham\",\"ham\",\"ham\",\"ham\",\"ham\",\"ham\",\"ham\",\"ham\",\"ham\",\"ham\",\"ham\",\"ham\",\"ham\",\"ham\",\"ham\",\"ham\",\"ham\",\"ham\",\"ham\",\"ham\",\"ham\",\"ham\",\"ham\",\"ham\",\"ham\",\"ham\",\"ham\",\"ham\",\"ham\",\"ham\",\"ham\",\"ham\",\"ham\",\"ham\",\"ham\",\"ham\",\"ham\",\"ham\",\"ham\",\"ham\",\"ham\",\"ham\",\"ham\",\"ham\",\"ham\",\"ham\",\"ham\",\"ham\",\"ham\",\"ham\",\"ham\",\"ham\",\"ham\",\"ham\",\"ham\",\"ham\",\"ham\",\"ham\",\"ham\",\"ham\",\"ham\",\"ham\",\"ham\",\"ham\",\"ham\",\"ham\",\"ham\",\"ham\",\"ham\",\"ham\",\"ham\",\"ham\",\"ham\",\"ham\",\"ham\",\"ham\",\"ham\",\"ham\",\"ham\",\"ham\",\"ham\",\"ham\",\"ham\",\"ham\",\"ham\",\"ham\",\"ham\",\"ham\",\"ham\",\"ham\",\"ham\",\"ham\",\"ham\",\"ham\",\"ham\",\"ham\",\"ham\",\"ham\",\"ham\",\"ham\",\"ham\",\"ham\",\"ham\",\"ham\",\"ham\",\"ham\",\"ham\",\"ham\",\"ham\",\"ham\",\"ham\",\"ham\",\"ham\",\"ham\",\"ham\",\"ham\",\"ham\",\"ham\",\"ham\",\"ham\",\"ham\",\"ham\",\"ham\",\"ham\",\"ham\",\"ham\",\"ham\",\"ham\",\"ham\",\"ham\",\"ham\",\"ham\",\"ham\",\"ham\",\"ham\",\"ham\",\"ham\",\"ham\",\"ham\",\"ham\",\"ham\",\"ham\",\"ham\",\"ham\",\"ham\",\"ham\",\"ham\",\"ham\",\"ham\",\"ham\",\"ham\",\"ham\",\"ham\",\"ham\",\"ham\",\"ham\",\"ham\",\"ham\",\"ham\",\"ham\",\"ham\",\"ham\",\"ham\",\"ham\",\"ham\",\"ham\",\"ham\",\"ham\",\"ham\",\"ham\",\"ham\",\"ham\",\"ham\",\"ham\",\"ham\",\"ham\",\"ham\",\"ham\",\"ham\",\"ham\",\"ham\",\"ham\",\"ham\",\"ham\",\"ham\",\"ham\",\"ham\",\"ham\",\"ham\",\"ham\",\"ham\",\"ham\",\"ham\",\"ham\",\"ham\",\"ham\",\"ham\",\"ham\",\"ham\",\"ham\",\"ham\",\"ham\",\"ham\",\"ham\",\"ham\",\"ham\",\"ham\",\"ham\",\"ham\",\"ham\",\"ham\",\"ham\",\"ham\",\"ham\",\"ham\",\"ham\",\"ham\",\"ham\",\"ham\",\"ham\",\"ham\",\"ham\",\"ham\",\"ham\",\"ham\",\"ham\",\"ham\",\"ham\",\"ham\",\"ham\",\"ham\",\"ham\",\"ham\",\"ham\",\"ham\",\"ham\",\"ham\",\"ham\",\"ham\",\"ham\",\"ham\",\"ham\",\"ham\",\"ham\",\"ham\",\"ham\",\"ham\",\"ham\",\"ham\",\"ham\",\"ham\",\"ham\",\"ham\",\"ham\",\"ham\",\"ham\",\"ham\",\"ham\",\"ham\",\"ham\",\"ham\",\"ham\",\"ham\",\"ham\",\"ham\",\"ham\",\"ham\",\"ham\",\"ham\",\"ham\",\"ham\",\"ham\",\"ham\",\"ham\",\"ham\",\"ham\",\"ham\",\"ham\",\"ham\",\"ham\",\"ham\",\"ham\",\"ham\",\"ham\",\"ham\",\"ham\",\"ham\",\"ham\",\"ham\",\"ham\",\"ham\",\"ham\",\"ham\",\"ham\",\"ham\",\"ham\",\"ham\",\"ham\",\"ham\",\"ham\",\"ham\",\"ham\",\"ham\",\"ham\",\"ham\",\"ham\",\"ham\",\"ham\",\"ham\",\"ham\",\"ham\",\"ham\",\"ham\",\"ham\",\"ham\",\"ham\",\"ham\",\"ham\",\"ham\",\"ham\",\"ham\",\"ham\",\"ham\",\"ham\",\"ham\",\"ham\",\"ham\",\"ham\",\"ham\",\"ham\",\"ham\",\"ham\",\"ham\",\"ham\",\"ham\",\"ham\",\"ham\",\"ham\",\"ham\",\"ham\",\"ham\",\"ham\",\"ham\",\"ham\",\"ham\",\"ham\",\"ham\",\"ham\",\"ham\",\"ham\",\"ham\",\"ham\",\"ham\",\"ham\",\"ham\",\"ham\",\"ham\",\"ham\",\"ham\",\"ham\",\"ham\",\"ham\",\"ham\",\"ham\",\"ham\",\"ham\",\"ham\",\"ham\",\"ham\",\"ham\",\"ham\",\"ham\",\"ham\",\"ham\",\"ham\",\"ham\",\"ham\",\"ham\",\"ham\",\"ham\",\"ham\",\"ham\",\"ham\",\"ham\",\"ham\",\"ham\",\"ham\",\"ham\",\"ham\",\"ham\",\"ham\",\"ham\",\"ham\",\"ham\",\"ham\",\"ham\",\"ham\",\"ham\",\"ham\",\"ham\",\"ham\",\"ham\",\"ham\",\"ham\",\"ham\",\"ham\",\"ham\",\"ham\",\"ham\",\"ham\",\"ham\",\"ham\",\"ham\",\"ham\",\"ham\",\"ham\",\"ham\",\"ham\",\"ham\",\"ham\",\"ham\",\"ham\",\"ham\",\"ham\",\"ham\",\"ham\",\"ham\",\"ham\",\"ham\",\"ham\",\"ham\",\"ham\",\"ham\",\"ham\",\"ham\",\"ham\",\"ham\",\"ham\",\"ham\",\"ham\",\"ham\",\"ham\",\"ham\",\"ham\",\"ham\",\"ham\",\"ham\",\"ham\",\"ham\",\"ham\",\"ham\",\"ham\",\"ham\",\"ham\",\"ham\",\"ham\",\"ham\",\"ham\",\"ham\",\"ham\",\"ham\",\"ham\",\"ham\",\"ham\",\"ham\",\"ham\",\"ham\",\"ham\",\"ham\",\"ham\",\"ham\",\"ham\",\"ham\",\"ham\",\"ham\",\"ham\",\"ham\",\"ham\",\"ham\",\"ham\",\"ham\",\"ham\",\"ham\",\"ham\",\"ham\",\"ham\",\"ham\",\"ham\",\"ham\",\"ham\",\"ham\",\"ham\",\"ham\",\"ham\",\"ham\",\"ham\",\"ham\",\"ham\",\"ham\",\"ham\",\"ham\",\"ham\",\"ham\",\"ham\",\"ham\",\"ham\",\"ham\",\"ham\",\"ham\",\"ham\",\"ham\",\"ham\",\"ham\",\"ham\",\"ham\",\"ham\",\"ham\",\"ham\",\"ham\",\"ham\",\"ham\",\"ham\",\"ham\",\"ham\",\"ham\",\"ham\",\"ham\",\"ham\",\"ham\",\"ham\",\"ham\",\"ham\",\"ham\",\"ham\",\"ham\",\"ham\",\"ham\",\"ham\",\"ham\",\"ham\",\"ham\",\"ham\",\"ham\",\"ham\",\"ham\",\"ham\",\"ham\",\"ham\",\"ham\",\"ham\",\"ham\",\"ham\",\"ham\",\"ham\",\"ham\",\"ham\",\"ham\",\"ham\",\"ham\",\"ham\",\"ham\",\"ham\",\"ham\",\"ham\",\"ham\",\"ham\",\"ham\",\"ham\",\"ham\",\"ham\",\"ham\",\"ham\",\"ham\",\"ham\",\"ham\",\"ham\",\"ham\",\"ham\",\"ham\",\"ham\",\"ham\",\"ham\",\"ham\",\"ham\",\"ham\",\"ham\",\"ham\",\"ham\",\"ham\",\"ham\",\"ham\",\"ham\",\"ham\",\"ham\",\"ham\",\"ham\",\"ham\",\"ham\",\"ham\",\"ham\",\"ham\",\"ham\",\"ham\",\"ham\",\"ham\",\"ham\",\"ham\",\"ham\",\"ham\",\"ham\",\"ham\",\"ham\",\"ham\",\"ham\",\"ham\",\"ham\",\"ham\",\"ham\",\"ham\",\"ham\",\"ham\",\"ham\",\"ham\",\"ham\",\"ham\",\"ham\",\"ham\",\"ham\",\"ham\",\"ham\",\"ham\",\"ham\",\"ham\",\"ham\",\"ham\",\"ham\",\"ham\",\"ham\",\"ham\",\"ham\",\"ham\",\"ham\",\"ham\",\"ham\",\"ham\",\"ham\",\"ham\",\"ham\",\"ham\",\"ham\",\"ham\",\"ham\",\"ham\",\"ham\",\"ham\",\"ham\",\"ham\",\"ham\",\"ham\",\"ham\",\"ham\",\"ham\",\"ham\",\"ham\",\"ham\",\"ham\",\"ham\",\"ham\",\"ham\",\"ham\",\"ham\",\"ham\",\"ham\",\"ham\",\"ham\",\"ham\",\"ham\",\"ham\",\"ham\",\"ham\",\"ham\",\"ham\",\"ham\",\"ham\",\"ham\",\"ham\",\"ham\",\"ham\",\"ham\",\"ham\",\"ham\",\"ham\",\"ham\",\"ham\",\"ham\",\"ham\",\"ham\",\"ham\",\"ham\",\"ham\",\"ham\",\"ham\",\"ham\",\"ham\",\"ham\",\"ham\",\"ham\",\"ham\",\"ham\",\"ham\",\"ham\",\"ham\",\"ham\",\"ham\",\"ham\",\"ham\",\"ham\",\"ham\",\"ham\",\"ham\",\"ham\",\"ham\",\"ham\",\"ham\",\"ham\",\"ham\",\"ham\",\"ham\",\"ham\",\"ham\",\"ham\",\"ham\",\"ham\",\"ham\",\"ham\",\"ham\",\"ham\",\"ham\",\"ham\",\"ham\",\"ham\",\"ham\",\"ham\",\"ham\",\"ham\",\"ham\",\"ham\",\"ham\",\"ham\",\"ham\",\"ham\",\"ham\",\"ham\",\"ham\",\"ham\",\"ham\",\"ham\",\"ham\",\"ham\",\"ham\",\"ham\",\"ham\",\"ham\",\"ham\",\"ham\",\"ham\",\"ham\",\"ham\",\"ham\",\"ham\",\"ham\",\"ham\",\"ham\",\"ham\",\"ham\",\"ham\",\"ham\",\"ham\",\"ham\",\"ham\",\"ham\",\"ham\",\"ham\",\"ham\",\"ham\",\"ham\",\"ham\",\"ham\",\"ham\",\"ham\",\"ham\",\"ham\",\"ham\",\"ham\",\"ham\",\"ham\",\"ham\",\"ham\",\"ham\",\"ham\",\"ham\",\"ham\",\"ham\",\"ham\",\"ham\",\"ham\",\"ham\",\"ham\",\"ham\",\"ham\",\"ham\",\"ham\",\"ham\",\"ham\",\"ham\",\"ham\",\"ham\",\"ham\",\"ham\",\"ham\",\"ham\",\"ham\",\"ham\",\"ham\",\"ham\",\"ham\",\"ham\",\"ham\",\"ham\",\"ham\",\"ham\",\"ham\",\"ham\",\"ham\",\"ham\",\"ham\",\"ham\",\"ham\",\"ham\",\"ham\",\"ham\",\"ham\",\"ham\",\"ham\",\"ham\",\"ham\",\"ham\",\"ham\",\"ham\",\"ham\",\"ham\",\"ham\",\"ham\",\"ham\",\"ham\",\"ham\",\"ham\",\"ham\",\"ham\",\"ham\",\"ham\",\"ham\",\"ham\",\"ham\",\"ham\",\"ham\",\"ham\",\"ham\",\"ham\",\"ham\",\"ham\",\"ham\",\"ham\",\"ham\",\"ham\",\"ham\",\"ham\",\"ham\",\"ham\",\"ham\",\"ham\",\"ham\",\"ham\",\"ham\",\"ham\",\"ham\",\"ham\",\"ham\",\"ham\",\"ham\",\"ham\",\"ham\",\"ham\",\"ham\",\"ham\",\"ham\",\"ham\",\"ham\",\"ham\",\"ham\",\"ham\",\"ham\",\"ham\",\"ham\",\"ham\",\"ham\",\"ham\",\"ham\",\"ham\",\"ham\",\"ham\",\"ham\",\"ham\",\"ham\",\"ham\",\"ham\",\"ham\",\"ham\",\"ham\",\"ham\",\"ham\",\"ham\",\"ham\",\"ham\",\"ham\",\"ham\",\"ham\",\"ham\",\"ham\",\"ham\",\"ham\",\"ham\",\"ham\",\"ham\",\"ham\",\"ham\",\"ham\",\"ham\",\"ham\",\"ham\",\"ham\",\"ham\",\"ham\",\"ham\",\"ham\",\"ham\",\"ham\",\"ham\",\"ham\",\"ham\",\"ham\",\"ham\",\"ham\",\"ham\",\"ham\",\"ham\",\"ham\",\"ham\",\"ham\",\"ham\",\"ham\",\"ham\",\"ham\",\"ham\",\"ham\",\"ham\",\"ham\",\"ham\",\"ham\",\"ham\",\"ham\",\"ham\",\"ham\",\"ham\",\"ham\",\"ham\",\"ham\",\"ham\",\"ham\",\"ham\",\"ham\",\"ham\",\"ham\",\"ham\",\"ham\",\"ham\",\"ham\",\"ham\",\"ham\",\"ham\",\"ham\",\"ham\",\"ham\",\"ham\",\"ham\",\"ham\",\"ham\",\"ham\",\"ham\",\"ham\",\"ham\",\"ham\",\"ham\",\"ham\",\"ham\",\"ham\",\"ham\",\"ham\",\"ham\",\"ham\",\"ham\",\"ham\",\"ham\",\"ham\",\"ham\",\"ham\",\"ham\",\"ham\",\"ham\",\"ham\",\"ham\",\"ham\",\"ham\",\"ham\",\"ham\",\"ham\",\"ham\",\"ham\",\"ham\",\"ham\",\"ham\",\"ham\",\"ham\",\"ham\",\"ham\",\"ham\",\"ham\",\"ham\",\"ham\",\"ham\",\"ham\",\"ham\",\"ham\",\"ham\",\"ham\",\"ham\",\"ham\",\"ham\",\"ham\",\"ham\",\"ham\",\"ham\",\"ham\",\"ham\",\"ham\",\"ham\",\"ham\",\"ham\",\"ham\",\"ham\",\"ham\",\"ham\",\"ham\",\"ham\",\"ham\",\"ham\",\"ham\",\"ham\",\"ham\",\"ham\",\"ham\",\"ham\",\"ham\",\"ham\",\"ham\",\"ham\",\"ham\",\"ham\",\"ham\",\"ham\",\"ham\",\"ham\",\"ham\",\"ham\",\"ham\",\"ham\",\"ham\",\"ham\",\"ham\",\"ham\",\"ham\",\"ham\",\"ham\",\"ham\",\"ham\",\"ham\",\"ham\",\"ham\",\"ham\",\"ham\",\"ham\",\"ham\",\"ham\",\"ham\",\"ham\",\"ham\",\"ham\",\"ham\",\"ham\",\"ham\",\"ham\",\"ham\",\"ham\",\"ham\",\"ham\",\"ham\",\"ham\",\"ham\",\"ham\",\"ham\",\"ham\",\"ham\",\"ham\",\"ham\",\"ham\",\"ham\",\"ham\",\"ham\",\"ham\",\"ham\",\"ham\",\"ham\",\"ham\",\"ham\",\"ham\",\"ham\",\"ham\",\"ham\",\"ham\",\"ham\",\"ham\",\"ham\",\"ham\",\"ham\",\"ham\",\"ham\",\"ham\",\"ham\",\"ham\",\"ham\",\"ham\",\"ham\",\"ham\",\"ham\",\"ham\",\"ham\",\"ham\",\"ham\",\"ham\",\"ham\",\"ham\",\"ham\",\"ham\",\"ham\",\"ham\",\"ham\",\"ham\",\"ham\",\"ham\",\"ham\",\"ham\",\"ham\",\"ham\",\"ham\",\"ham\",\"ham\",\"ham\",\"ham\",\"ham\",\"ham\",\"ham\",\"ham\",\"ham\",\"ham\",\"ham\",\"ham\",\"ham\",\"ham\",\"ham\",\"ham\",\"ham\",\"ham\",\"ham\",\"ham\",\"ham\",\"ham\",\"ham\",\"ham\",\"ham\",\"ham\",\"ham\",\"ham\",\"ham\",\"ham\",\"ham\",\"ham\",\"ham\",\"ham\",\"ham\",\"ham\",\"ham\",\"ham\",\"ham\",\"ham\",\"ham\",\"ham\",\"ham\",\"ham\",\"ham\",\"ham\",\"ham\",\"ham\",\"ham\",\"ham\",\"ham\",\"ham\",\"ham\",\"ham\",\"ham\",\"ham\",\"ham\",\"ham\",\"ham\",\"ham\",\"ham\",\"ham\",\"ham\",\"ham\",\"ham\",\"ham\",\"ham\",\"ham\",\"ham\",\"ham\",\"ham\",\"ham\",\"ham\",\"ham\",\"ham\",\"ham\",\"ham\",\"ham\",\"ham\",\"ham\",\"ham\",\"ham\",\"ham\",\"ham\",\"ham\",\"ham\",\"ham\",\"ham\",\"ham\",\"ham\",\"ham\",\"ham\",\"ham\",\"ham\",\"ham\",\"ham\",\"ham\",\"ham\",\"ham\",\"ham\",\"ham\",\"ham\",\"ham\",\"ham\",\"ham\",\"ham\",\"ham\",\"ham\",\"ham\",\"ham\",\"ham\",\"ham\",\"ham\",\"ham\",\"ham\",\"ham\",\"ham\",\"ham\",\"ham\",\"ham\",\"ham\",\"ham\",\"ham\",\"ham\",\"ham\",\"ham\",\"ham\",\"ham\",\"ham\",\"ham\",\"ham\",\"ham\",\"ham\",\"ham\",\"ham\",\"ham\",\"ham\",\"ham\",\"ham\",\"ham\",\"ham\",\"ham\",\"ham\",\"ham\",\"ham\",\"ham\",\"ham\",\"ham\",\"ham\",\"ham\",\"ham\",\"ham\",\"ham\",\"ham\",\"ham\",\"ham\",\"ham\",\"ham\",\"ham\",\"ham\",\"ham\",\"ham\",\"ham\",\"ham\",\"ham\",\"ham\",\"ham\",\"ham\",\"ham\",\"ham\",\"ham\",\"ham\",\"ham\",\"ham\",\"ham\",\"ham\",\"ham\",\"ham\",\"ham\",\"ham\",\"ham\",\"ham\",\"ham\",\"ham\",\"ham\",\"ham\",\"ham\",\"ham\",\"ham\",\"ham\",\"ham\",\"ham\",\"ham\",\"ham\",\"ham\",\"ham\",\"ham\",\"ham\",\"ham\",\"ham\",\"ham\",\"ham\",\"ham\",\"ham\",\"ham\",\"ham\",\"ham\",\"ham\",\"ham\",\"ham\",\"ham\",\"ham\",\"ham\",\"ham\",\"ham\",\"ham\",\"ham\",\"ham\",\"ham\",\"ham\",\"ham\",\"ham\",\"ham\",\"ham\",\"ham\",\"ham\",\"ham\",\"ham\",\"ham\",\"ham\",\"ham\",\"ham\",\"ham\",\"ham\",\"ham\",\"ham\",\"ham\",\"ham\",\"ham\",\"ham\",\"ham\",\"ham\",\"ham\",\"ham\",\"ham\",\"ham\",\"ham\",\"ham\",\"ham\",\"ham\",\"ham\",\"ham\",\"ham\",\"ham\",\"ham\",\"ham\",\"ham\",\"ham\",\"ham\",\"ham\",\"ham\",\"ham\",\"ham\",\"ham\",\"ham\",\"ham\",\"ham\",\"ham\",\"ham\",\"ham\",\"ham\",\"ham\",\"ham\",\"ham\",\"ham\",\"ham\",\"ham\",\"ham\",\"ham\",\"ham\",\"ham\",\"ham\",\"ham\",\"ham\",\"ham\",\"ham\",\"ham\",\"ham\",\"ham\",\"ham\",\"ham\",\"ham\",\"ham\",\"ham\",\"ham\",\"ham\",\"ham\",\"ham\",\"ham\",\"ham\",\"ham\",\"ham\",\"ham\",\"ham\",\"ham\",\"ham\",\"ham\",\"ham\",\"ham\",\"ham\",\"ham\",\"ham\",\"ham\",\"ham\",\"ham\",\"ham\",\"ham\",\"ham\",\"ham\",\"ham\",\"ham\",\"ham\",\"ham\",\"ham\",\"ham\",\"ham\",\"ham\",\"ham\",\"ham\",\"ham\",\"ham\",\"ham\",\"ham\",\"ham\",\"ham\",\"ham\",\"ham\",\"ham\",\"ham\",\"ham\",\"ham\",\"ham\",\"ham\",\"ham\",\"ham\",\"ham\",\"ham\",\"ham\",\"ham\",\"ham\",\"ham\",\"ham\",\"ham\",\"ham\",\"ham\",\"ham\",\"ham\",\"ham\",\"ham\",\"ham\",\"ham\",\"ham\",\"ham\",\"ham\",\"ham\",\"ham\",\"ham\",\"ham\",\"ham\",\"ham\",\"ham\",\"ham\",\"ham\",\"ham\",\"ham\",\"ham\",\"ham\",\"ham\",\"ham\",\"ham\",\"ham\",\"ham\",\"ham\",\"ham\",\"ham\",\"ham\",\"ham\",\"ham\",\"ham\",\"ham\",\"ham\",\"ham\",\"ham\",\"ham\",\"ham\",\"ham\",\"ham\",\"ham\",\"ham\",\"ham\",\"ham\",\"ham\",\"ham\",\"ham\",\"ham\",\"ham\",\"ham\",\"ham\",\"ham\",\"ham\",\"ham\",\"ham\",\"ham\",\"ham\",\"ham\",\"ham\",\"ham\",\"ham\",\"ham\",\"ham\",\"ham\",\"ham\",\"ham\",\"ham\",\"ham\",\"ham\",\"ham\",\"ham\",\"ham\",\"ham\",\"ham\",\"ham\",\"ham\",\"ham\",\"ham\",\"ham\",\"ham\",\"ham\",\"ham\",\"ham\",\"ham\",\"ham\",\"ham\",\"ham\",\"ham\",\"ham\",\"ham\",\"ham\",\"ham\",\"ham\",\"ham\",\"ham\",\"ham\",\"ham\",\"ham\",\"ham\",\"ham\",\"ham\",\"ham\",\"ham\",\"ham\",\"ham\",\"ham\",\"ham\",\"ham\",\"ham\",\"ham\",\"ham\",\"ham\",\"ham\",\"ham\",\"ham\",\"ham\",\"ham\",\"ham\",\"ham\",\"ham\",\"ham\",\"ham\",\"ham\",\"ham\",\"ham\",\"ham\",\"ham\",\"ham\",\"ham\",\"ham\",\"ham\",\"ham\",\"ham\",\"ham\",\"ham\",\"ham\",\"ham\",\"ham\",\"ham\",\"ham\",\"ham\",\"ham\",\"ham\",\"ham\",\"ham\",\"ham\",\"ham\",\"ham\",\"ham\",\"ham\",\"ham\",\"ham\",\"ham\",\"ham\",\"ham\",\"ham\",\"ham\",\"ham\",\"ham\",\"ham\",\"ham\",\"ham\",\"ham\",\"ham\",\"ham\",\"ham\",\"ham\",\"ham\",\"ham\",\"ham\",\"ham\",\"ham\",\"ham\",\"ham\",\"ham\",\"ham\",\"ham\",\"ham\",\"ham\",\"ham\",\"ham\",\"ham\",\"ham\",\"ham\",\"ham\",\"ham\",\"ham\",\"ham\",\"ham\",\"ham\",\"ham\",\"ham\",\"ham\",\"ham\",\"ham\",\"ham\",\"ham\",\"ham\",\"ham\",\"ham\",\"ham\",\"ham\",\"ham\",\"ham\",\"ham\",\"ham\",\"ham\",\"ham\",\"ham\",\"ham\",\"ham\",\"ham\",\"ham\",\"ham\",\"ham\",\"ham\",\"ham\",\"ham\",\"ham\",\"ham\",\"ham\",\"ham\",\"ham\",\"ham\",\"ham\",\"ham\",\"ham\",\"ham\",\"ham\",\"ham\",\"ham\",\"ham\",\"ham\",\"ham\",\"ham\",\"ham\",\"ham\",\"ham\",\"ham\",\"ham\",\"ham\",\"ham\",\"ham\",\"ham\",\"ham\",\"ham\",\"ham\",\"ham\",\"ham\",\"ham\",\"ham\",\"ham\",\"ham\",\"ham\",\"ham\",\"ham\",\"ham\",\"ham\",\"ham\",\"ham\",\"ham\",\"ham\",\"ham\",\"ham\",\"ham\",\"ham\",\"ham\",\"ham\",\"ham\",\"ham\",\"ham\",\"ham\",\"ham\",\"ham\",\"ham\",\"ham\",\"ham\",\"ham\",\"ham\",\"ham\",\"ham\",\"ham\",\"ham\",\"ham\",\"ham\",\"ham\",\"ham\",\"ham\",\"ham\",\"ham\",\"ham\",\"ham\",\"ham\",\"ham\",\"ham\",\"ham\",\"ham\",\"ham\",\"ham\",\"ham\",\"ham\",\"ham\",\"ham\",\"ham\",\"ham\",\"ham\",\"ham\",\"ham\",\"ham\",\"ham\",\"ham\",\"ham\",\"ham\",\"ham\",\"ham\",\"ham\",\"ham\",\"ham\",\"ham\",\"ham\",\"ham\",\"ham\",\"ham\",\"ham\",\"ham\",\"ham\",\"ham\",\"ham\",\"ham\",\"ham\",\"ham\",\"ham\",\"ham\",\"ham\",\"ham\",\"ham\",\"ham\",\"ham\",\"ham\",\"ham\",\"ham\",\"ham\",\"ham\",\"ham\",\"ham\",\"ham\",\"ham\",\"ham\",\"ham\",\"ham\",\"ham\",\"ham\",\"ham\",\"ham\",\"ham\",\"ham\",\"ham\",\"ham\",\"ham\",\"ham\",\"ham\",\"ham\",\"ham\",\"ham\",\"ham\",\"ham\",\"ham\",\"ham\",\"ham\",\"ham\",\"ham\",\"ham\",\"ham\",\"ham\",\"ham\",\"ham\",\"ham\",\"ham\",\"ham\",\"ham\",\"ham\",\"ham\",\"ham\",\"ham\",\"ham\",\"ham\",\"ham\",\"ham\",\"ham\",\"ham\",\"ham\",\"ham\",\"ham\",\"ham\",\"ham\",\"ham\",\"ham\",\"ham\",\"ham\",\"ham\",\"ham\",\"ham\",\"ham\",\"ham\",\"ham\",\"ham\",\"ham\",\"ham\",\"ham\",\"ham\",\"ham\",\"ham\",\"ham\",\"ham\",\"ham\",\"ham\",\"ham\",\"ham\",\"ham\",\"ham\",\"ham\",\"ham\",\"ham\",\"ham\",\"ham\",\"ham\",\"ham\",\"ham\",\"ham\",\"ham\",\"ham\",\"ham\",\"ham\",\"ham\",\"ham\",\"ham\",\"ham\",\"ham\",\"ham\",\"ham\",\"ham\",\"ham\",\"ham\",\"ham\",\"ham\",\"ham\",\"ham\",\"ham\",\"ham\",\"ham\",\"ham\",\"ham\",\"ham\",\"ham\",\"ham\",\"ham\",\"ham\",\"ham\",\"ham\",\"ham\",\"ham\",\"ham\",\"ham\",\"ham\",\"ham\",\"ham\",\"ham\",\"ham\",\"ham\",\"ham\",\"ham\",\"ham\",\"ham\",\"ham\",\"ham\",\"ham\",\"ham\",\"ham\",\"ham\",\"ham\",\"ham\",\"ham\",\"ham\",\"ham\",\"ham\",\"ham\",\"ham\",\"ham\",\"ham\",\"ham\",\"ham\",\"ham\",\"ham\",\"ham\",\"ham\",\"ham\",\"ham\",\"ham\",\"ham\",\"ham\",\"ham\",\"ham\",\"ham\",\"ham\",\"ham\",\"ham\",\"ham\",\"ham\",\"ham\",\"ham\",\"ham\",\"ham\",\"ham\",\"ham\",\"ham\",\"ham\",\"ham\",\"ham\",\"ham\",\"ham\",\"ham\",\"ham\",\"ham\",\"ham\",\"ham\",\"ham\",\"ham\",\"ham\",\"ham\",\"ham\",\"ham\",\"ham\",\"ham\",\"ham\",\"ham\",\"ham\",\"ham\",\"ham\",\"ham\",\"ham\",\"ham\",\"ham\",\"ham\",\"ham\",\"ham\",\"ham\",\"ham\",\"ham\",\"ham\",\"ham\",\"ham\",\"ham\",\"ham\",\"ham\",\"ham\",\"ham\",\"ham\",\"ham\",\"ham\",\"ham\",\"ham\",\"ham\",\"ham\",\"ham\",\"ham\",\"ham\",\"ham\",\"ham\",\"ham\",\"ham\",\"ham\",\"ham\",\"ham\",\"ham\",\"ham\",\"ham\",\"ham\",\"ham\",\"ham\",\"ham\",\"ham\",\"ham\",\"ham\",\"ham\",\"ham\",\"ham\",\"ham\",\"ham\",\"ham\",\"ham\",\"ham\",\"ham\",\"ham\",\"ham\",\"ham\",\"ham\",\"ham\",\"ham\",\"ham\",\"ham\",\"ham\",\"ham\",\"ham\",\"ham\",\"ham\",\"ham\",\"ham\",\"ham\",\"ham\",\"ham\",\"ham\",\"ham\",\"ham\",\"ham\",\"ham\",\"ham\",\"ham\",\"ham\",\"ham\",\"ham\",\"ham\",\"ham\",\"ham\",\"ham\",\"ham\",\"ham\",\"ham\",\"ham\",\"ham\",\"ham\",\"ham\",\"ham\",\"ham\",\"ham\",\"ham\",\"ham\",\"ham\",\"ham\",\"ham\",\"ham\",\"ham\",\"ham\",\"ham\",\"ham\",\"ham\",\"ham\",\"ham\",\"ham\",\"ham\",\"ham\",\"ham\",\"ham\",\"ham\",\"ham\",\"ham\",\"ham\",\"ham\",\"ham\",\"ham\",\"ham\",\"ham\",\"ham\",\"ham\",\"ham\",\"ham\",\"ham\",\"ham\",\"ham\",\"ham\",\"ham\",\"ham\",\"ham\",\"ham\",\"ham\",\"ham\",\"ham\",\"ham\",\"ham\",\"ham\",\"ham\",\"ham\",\"ham\",\"ham\",\"ham\",\"ham\",\"ham\",\"ham\",\"ham\",\"ham\",\"ham\",\"ham\",\"ham\",\"ham\",\"ham\",\"ham\",\"ham\",\"ham\",\"ham\",\"ham\",\"ham\",\"ham\",\"ham\",\"ham\",\"ham\",\"ham\",\"ham\",\"ham\",\"ham\",\"ham\",\"ham\",\"ham\",\"ham\",\"ham\",\"ham\",\"ham\",\"ham\",\"ham\",\"ham\",\"ham\",\"ham\",\"ham\",\"ham\",\"ham\",\"ham\",\"ham\",\"ham\",\"ham\",\"ham\",\"ham\",\"ham\",\"ham\",\"ham\",\"ham\",\"ham\",\"ham\",\"ham\",\"ham\",\"ham\",\"ham\",\"ham\",\"ham\",\"ham\",\"ham\",\"ham\",\"ham\",\"ham\",\"ham\",\"ham\",\"ham\",\"ham\",\"ham\",\"ham\",\"ham\",\"ham\",\"ham\",\"ham\",\"ham\",\"ham\",\"ham\",\"ham\",\"ham\",\"ham\",\"ham\",\"ham\",\"ham\",\"ham\",\"ham\",\"ham\",\"ham\",\"ham\",\"ham\",\"ham\",\"ham\",\"ham\",\"ham\",\"ham\",\"ham\",\"ham\",\"ham\",\"ham\",\"ham\",\"ham\",\"ham\",\"ham\",\"ham\",\"ham\",\"ham\",\"ham\",\"ham\",\"ham\",\"ham\",\"ham\",\"ham\",\"ham\",\"ham\",\"ham\",\"ham\",\"ham\",\"ham\",\"ham\",\"ham\",\"ham\",\"ham\",\"ham\",\"ham\",\"ham\",\"ham\",\"ham\",\"ham\",\"ham\",\"ham\",\"ham\",\"ham\",\"ham\",\"ham\",\"ham\",\"ham\",\"ham\",\"ham\",\"ham\",\"ham\",\"ham\",\"ham\",\"ham\",\"ham\",\"ham\",\"ham\",\"ham\",\"ham\",\"ham\",\"ham\",\"ham\",\"ham\",\"ham\",\"ham\",\"ham\",\"ham\",\"ham\",\"ham\",\"ham\",\"ham\",\"ham\",\"ham\",\"ham\",\"ham\",\"ham\",\"ham\",\"ham\",\"ham\",\"ham\",\"ham\",\"ham\",\"ham\",\"ham\",\"ham\",\"ham\",\"ham\",\"ham\",\"ham\",\"ham\",\"ham\",\"ham\",\"ham\",\"ham\",\"ham\",\"ham\",\"ham\",\"ham\",\"ham\",\"ham\",\"ham\",\"ham\",\"ham\",\"ham\",\"ham\",\"ham\",\"ham\",\"ham\",\"ham\",\"ham\",\"ham\",\"ham\",\"ham\",\"ham\",\"ham\",\"ham\",\"ham\",\"ham\",\"ham\",\"ham\",\"ham\",\"ham\",\"ham\",\"ham\",\"ham\",\"ham\",\"ham\",\"ham\",\"ham\",\"ham\",\"ham\",\"ham\",\"ham\",\"ham\",\"ham\",\"ham\",\"ham\",\"ham\",\"ham\",\"ham\",\"ham\",\"ham\",\"ham\",\"ham\",\"ham\",\"ham\",\"ham\",\"ham\",\"ham\",\"ham\",\"ham\",\"ham\",\"ham\",\"ham\",\"ham\",\"ham\",\"ham\",\"ham\",\"ham\",\"ham\",\"ham\",\"ham\",\"ham\",\"ham\",\"ham\",\"ham\",\"ham\",\"ham\",\"ham\",\"ham\",\"ham\",\"ham\",\"ham\",\"ham\",\"ham\",\"ham\",\"ham\",\"ham\",\"ham\",\"ham\",\"ham\",\"ham\",\"ham\",\"ham\",\"ham\",\"ham\",\"ham\",\"ham\",\"ham\",\"ham\",\"ham\",\"ham\",\"ham\",\"ham\",\"ham\",\"ham\",\"ham\",\"ham\",\"ham\",\"ham\",\"ham\",\"ham\",\"ham\",\"ham\",\"ham\",\"ham\",\"ham\",\"ham\",\"ham\",\"ham\",\"ham\",\"ham\",\"ham\",\"ham\",\"ham\",\"ham\",\"ham\",\"ham\",\"ham\",\"ham\",\"ham\",\"ham\",\"ham\",\"ham\",\"ham\",\"ham\",\"ham\",\"ham\",\"ham\",\"ham\",\"ham\",\"ham\",\"ham\",\"ham\",\"ham\",\"ham\",\"ham\",\"ham\",\"ham\",\"ham\",\"ham\",\"ham\",\"ham\",\"ham\",\"ham\",\"ham\",\"ham\",\"ham\",\"ham\",\"ham\",\"ham\",\"ham\",\"ham\",\"ham\",\"ham\",\"ham\",\"ham\",\"ham\",\"ham\",\"ham\",\"ham\",\"ham\",\"ham\",\"ham\",\"ham\",\"ham\",\"ham\",\"ham\",\"ham\",\"ham\",\"ham\",\"ham\",\"ham\",\"ham\",\"ham\",\"ham\",\"ham\",\"ham\",\"ham\",\"ham\",\"ham\",\"ham\",\"ham\",\"ham\",\"ham\",\"ham\",\"ham\",\"ham\",\"ham\",\"ham\",\"ham\",\"ham\",\"ham\",\"ham\",\"ham\",\"ham\",\"ham\",\"ham\",\"ham\",\"ham\",\"ham\",\"ham\",\"ham\",\"ham\",\"ham\",\"ham\",\"ham\",\"ham\",\"ham\",\"ham\",\"ham\",\"ham\",\"ham\",\"ham\",\"ham\",\"ham\",\"ham\",\"ham\",\"ham\",\"ham\",\"ham\",\"ham\",\"ham\",\"ham\",\"ham\",\"ham\",\"ham\",\"ham\",\"ham\",\"ham\",\"ham\",\"ham\",\"ham\",\"ham\",\"ham\",\"ham\",\"ham\",\"ham\",\"ham\",\"ham\",\"ham\",\"ham\",\"ham\",\"ham\",\"ham\",\"ham\",\"ham\",\"ham\",\"ham\",\"ham\",\"ham\",\"ham\",\"ham\",\"ham\",\"ham\",\"ham\",\"ham\",\"ham\",\"ham\",\"ham\",\"ham\",\"ham\",\"ham\",\"ham\",\"ham\",\"ham\",\"ham\",\"ham\",\"ham\",\"ham\",\"ham\",\"ham\",\"ham\",\"ham\",\"ham\",\"ham\",\"ham\",\"ham\",\"ham\",\"ham\",\"ham\",\"ham\",\"ham\",\"ham\",\"ham\",\"ham\",\"ham\",\"ham\",\"ham\",\"ham\",\"ham\",\"ham\",\"ham\",\"ham\",\"ham\",\"ham\",\"ham\",\"ham\",\"ham\",\"ham\",\"ham\",\"ham\",\"ham\",\"ham\",\"ham\",\"ham\",\"ham\",\"ham\",\"ham\",\"ham\",\"ham\",\"ham\",\"ham\",\"ham\",\"ham\",\"ham\",\"ham\",\"ham\",\"ham\",\"ham\",\"ham\",\"ham\",\"ham\",\"ham\",\"ham\",\"ham\",\"ham\",\"ham\",\"ham\",\"ham\",\"ham\",\"ham\",\"ham\",\"ham\",\"ham\",\"ham\",\"ham\",\"ham\",\"ham\",\"ham\",\"ham\",\"ham\",\"ham\",\"ham\",\"ham\",\"ham\",\"ham\",\"ham\",\"ham\",\"ham\",\"ham\",\"ham\",\"ham\",\"ham\",\"ham\",\"ham\",\"ham\",\"ham\",\"ham\",\"ham\",\"ham\",\"ham\",\"ham\",\"ham\",\"ham\",\"ham\",\"ham\",\"ham\",\"ham\",\"ham\",\"ham\",\"ham\",\"ham\",\"ham\",\"ham\",\"ham\",\"ham\",\"ham\",\"ham\",\"ham\",\"ham\",\"ham\",\"ham\",\"ham\",\"ham\",\"ham\",\"ham\",\"ham\",\"ham\",\"ham\",\"ham\",\"ham\",\"ham\",\"ham\",\"ham\",\"ham\",\"ham\",\"ham\",\"ham\",\"ham\",\"ham\",\"ham\",\"ham\",\"ham\",\"ham\",\"ham\",\"ham\",\"ham\",\"ham\",\"ham\",\"ham\",\"ham\",\"ham\",\"ham\",\"ham\",\"ham\",\"ham\",\"ham\",\"ham\",\"ham\",\"ham\",\"ham\",\"ham\",\"ham\",\"ham\",\"ham\",\"ham\",\"ham\",\"ham\",\"ham\",\"ham\",\"ham\",\"ham\",\"ham\",\"ham\",\"ham\",\"ham\",\"ham\",\"ham\",\"ham\",\"ham\",\"ham\",\"ham\",\"ham\",\"ham\",\"ham\",\"ham\",\"ham\",\"ham\",\"ham\",\"ham\",\"ham\",\"ham\",\"ham\",\"ham\",\"ham\",\"ham\",\"ham\",\"ham\",\"ham\",\"ham\",\"ham\",\"ham\",\"ham\",\"ham\",\"ham\",\"ham\",\"ham\",\"ham\",\"ham\",\"ham\",\"ham\",\"ham\",\"ham\",\"ham\",\"ham\",\"ham\",\"ham\",\"ham\",\"ham\",\"ham\",\"ham\",\"ham\",\"ham\",\"ham\",\"ham\",\"ham\",\"ham\",\"ham\",\"ham\",\"ham\",\"ham\",\"ham\",\"ham\",\"ham\",\"ham\",\"ham\",\"ham\",\"ham\",\"ham\",\"ham\",\"ham\",\"ham\",\"ham\",\"ham\",\"ham\",\"ham\",\"ham\",\"ham\",\"ham\",\"ham\",\"ham\",\"ham\",\"ham\",\"ham\",\"ham\",\"ham\",\"ham\",\"ham\",\"ham\",\"ham\",\"ham\",\"ham\",\"ham\",\"ham\",\"ham\",\"ham\",\"ham\",\"ham\",\"ham\",\"ham\",\"ham\",\"ham\",\"ham\",\"ham\",\"ham\",\"ham\",\"ham\",\"ham\",\"ham\",\"ham\",\"ham\",\"ham\",\"ham\",\"ham\",\"ham\",\"ham\",\"ham\",\"ham\",\"ham\",\"ham\",\"ham\",\"ham\",\"ham\",\"ham\",\"ham\",\"ham\",\"ham\",\"ham\",\"ham\",\"ham\",\"ham\",\"ham\",\"ham\",\"ham\",\"ham\",\"ham\",\"ham\",\"ham\",\"ham\",\"ham\",\"ham\",\"ham\",\"ham\",\"ham\",\"ham\",\"ham\",\"ham\",\"ham\",\"ham\",\"ham\",\"ham\",\"ham\",\"ham\",\"ham\",\"ham\",\"ham\",\"ham\",\"ham\",\"ham\",\"ham\",\"ham\",\"ham\",\"ham\",\"ham\",\"ham\",\"ham\",\"ham\",\"ham\",\"ham\",\"ham\",\"ham\",\"ham\",\"ham\",\"ham\",\"ham\",\"ham\",\"ham\",\"ham\",\"ham\",\"ham\",\"ham\",\"ham\",\"ham\",\"ham\",\"ham\",\"ham\",\"ham\",\"ham\",\"ham\",\"ham\",\"ham\",\"ham\",\"ham\",\"ham\",\"ham\",\"ham\",\"ham\",\"ham\",\"ham\",\"ham\",\"ham\",\"ham\",\"ham\",\"ham\",\"ham\",\"ham\",\"ham\",\"ham\",\"ham\",\"ham\",\"ham\",\"ham\",\"ham\",\"ham\",\"ham\",\"ham\",\"ham\",\"ham\",\"ham\",\"ham\",\"ham\",\"ham\",\"ham\",\"ham\",\"ham\",\"ham\",\"ham\",\"ham\",\"ham\",\"ham\",\"ham\",\"ham\",\"ham\",\"ham\",\"ham\",\"ham\",\"ham\",\"ham\",\"ham\",\"ham\",\"ham\",\"ham\",\"ham\",\"ham\",\"ham\",\"ham\",\"ham\",\"ham\",\"ham\",\"ham\",\"ham\",\"ham\",\"ham\",\"ham\",\"ham\",\"ham\",\"ham\",\"ham\",\"ham\",\"ham\",\"ham\",\"ham\",\"ham\",\"ham\",\"ham\",\"ham\",\"ham\",\"ham\",\"ham\",\"ham\",\"ham\",\"ham\",\"ham\",\"ham\",\"ham\",\"ham\",\"ham\",\"ham\",\"ham\",\"ham\",\"ham\",\"ham\",\"ham\",\"ham\",\"ham\",\"ham\",\"ham\",\"ham\",\"ham\",\"ham\",\"ham\",\"ham\",\"ham\",\"ham\",\"ham\",\"ham\",\"ham\",\"ham\",\"ham\",\"ham\",\"ham\",\"ham\",\"ham\",\"ham\",\"ham\",\"ham\",\"ham\",\"ham\",\"ham\",\"ham\",\"ham\",\"ham\",\"ham\",\"ham\",\"ham\",\"ham\",\"ham\",\"ham\",\"ham\",\"ham\",\"ham\",\"ham\",\"ham\",\"ham\",\"ham\",\"ham\",\"ham\",\"ham\",\"ham\",\"ham\",\"ham\",\"ham\",\"ham\",\"ham\",\"ham\",\"ham\",\"ham\",\"ham\",\"ham\",\"ham\",\"ham\",\"ham\",\"ham\",\"ham\",\"ham\",\"ham\",\"ham\",\"ham\",\"ham\",\"ham\",\"ham\",\"ham\",\"ham\",\"ham\",\"ham\",\"ham\",\"ham\",\"ham\",\"ham\",\"ham\",\"ham\",\"ham\",\"ham\",\"ham\",\"ham\",\"ham\",\"ham\",\"ham\",\"ham\",\"ham\",\"ham\",\"ham\",\"ham\",\"ham\",\"ham\",\"ham\",\"ham\",\"ham\",\"ham\",\"ham\",\"ham\",\"ham\",\"ham\",\"ham\",\"ham\",\"ham\",\"ham\",\"ham\",\"ham\",\"ham\",\"ham\",\"ham\",\"ham\",\"ham\",\"ham\",\"ham\",\"ham\",\"ham\",\"ham\",\"ham\",\"ham\",\"ham\",\"ham\",\"ham\",\"ham\",\"ham\",\"ham\",\"ham\",\"ham\",\"ham\",\"ham\",\"ham\",\"ham\",\"ham\",\"ham\",\"ham\",\"ham\",\"ham\",\"ham\",\"ham\",\"ham\",\"ham\",\"ham\",\"ham\",\"ham\",\"ham\",\"ham\",\"ham\",\"ham\",\"ham\",\"ham\",\"ham\",\"ham\",\"ham\",\"ham\",\"ham\",\"ham\",\"ham\",\"ham\",\"ham\",\"ham\",\"ham\",\"ham\",\"ham\",\"ham\",\"ham\",\"ham\",\"ham\",\"ham\",\"ham\",\"ham\",\"ham\",\"ham\",\"ham\",\"ham\",\"ham\",\"ham\",\"ham\",\"ham\",\"ham\",\"ham\",\"ham\",\"ham\",\"ham\",\"ham\",\"ham\",\"ham\",\"ham\",\"ham\",\"ham\",\"ham\",\"ham\",\"ham\",\"ham\",\"ham\",\"ham\",\"ham\",\"ham\",\"ham\",\"ham\",\"ham\",\"ham\",\"ham\",\"ham\",\"ham\",\"ham\",\"ham\",\"ham\",\"ham\",\"ham\",\"ham\",\"ham\",\"ham\",\"ham\",\"ham\",\"ham\",\"ham\",\"ham\",\"ham\",\"ham\",\"ham\",\"ham\",\"ham\",\"ham\",\"ham\",\"ham\",\"ham\",\"ham\",\"ham\",\"ham\",\"ham\",\"ham\",\"ham\",\"ham\",\"ham\",\"ham\",\"ham\",\"ham\",\"ham\",\"ham\",\"ham\",\"ham\",\"ham\",\"ham\",\"ham\",\"ham\",\"ham\",\"ham\",\"ham\",\"ham\",\"ham\",\"ham\",\"ham\",\"ham\",\"ham\",\"ham\",\"ham\",\"ham\",\"ham\",\"ham\",\"ham\",\"ham\",\"ham\",\"ham\",\"ham\",\"ham\",\"ham\",\"ham\",\"ham\",\"ham\",\"ham\",\"ham\",\"ham\",\"ham\",\"ham\",\"ham\",\"ham\",\"ham\",\"ham\",\"ham\",\"ham\",\"ham\",\"ham\",\"ham\",\"ham\",\"ham\",\"ham\",\"ham\",\"ham\",\"ham\",\"ham\",\"ham\",\"ham\",\"ham\",\"ham\",\"ham\",\"ham\",\"ham\",\"ham\",\"ham\",\"ham\",\"ham\",\"ham\",\"ham\",\"ham\",\"ham\",\"ham\",\"ham\",\"ham\",\"ham\",\"ham\",\"ham\",\"ham\",\"ham\",\"ham\",\"ham\",\"ham\",\"ham\",\"ham\",\"ham\",\"ham\",\"ham\",\"ham\",\"ham\",\"ham\",\"ham\",\"ham\",\"ham\",\"ham\",\"ham\",\"ham\",\"ham\",\"ham\",\"ham\",\"ham\",\"ham\",\"ham\",\"ham\",\"ham\",\"ham\",\"ham\",\"ham\",\"ham\",\"ham\",\"ham\",\"ham\",\"ham\",\"ham\",\"ham\",\"ham\",\"ham\",\"ham\",\"ham\",\"ham\",\"ham\",\"ham\",\"ham\",\"ham\",\"ham\",\"ham\",\"ham\",\"ham\",\"ham\",\"ham\",\"ham\",\"ham\",\"ham\",\"ham\",\"ham\",\"ham\",\"ham\",\"ham\",\"ham\",\"ham\",\"ham\",\"ham\",\"ham\",\"ham\",\"ham\",\"ham\",\"ham\",\"ham\",\"ham\",\"ham\",\"ham\",\"ham\",\"ham\",\"ham\",\"ham\",\"ham\",\"ham\",\"ham\",\"ham\",\"ham\",\"ham\",\"ham\",\"ham\",\"ham\",\"ham\",\"ham\",\"ham\",\"ham\",\"ham\",\"ham\",\"ham\",\"ham\",\"ham\",\"ham\",\"ham\",\"ham\",\"ham\",\"ham\",\"ham\",\"ham\",\"ham\",\"ham\",\"ham\",\"ham\",\"ham\",\"ham\",\"ham\",\"ham\",\"ham\",\"ham\",\"ham\",\"ham\",\"ham\",\"ham\",\"ham\",\"ham\",\"ham\",\"ham\",\"ham\",\"ham\",\"ham\",\"ham\",\"ham\",\"ham\",\"ham\",\"ham\",\"ham\",\"ham\",\"ham\",\"ham\",\"ham\",\"ham\",\"ham\",\"ham\",\"ham\",\"ham\",\"ham\",\"ham\",\"ham\",\"ham\",\"ham\",\"ham\",\"ham\",\"ham\",\"ham\",\"ham\",\"ham\",\"ham\",\"ham\",\"ham\",\"ham\",\"ham\",\"ham\",\"ham\",\"ham\",\"ham\",\"ham\",\"ham\",\"ham\",\"ham\",\"ham\",\"ham\",\"ham\",\"ham\",\"ham\",\"ham\",\"ham\",\"ham\",\"ham\",\"ham\",\"ham\",\"ham\",\"ham\",\"ham\",\"ham\",\"ham\",\"ham\",\"ham\",\"ham\",\"ham\",\"ham\",\"ham\",\"ham\",\"ham\",\"ham\",\"ham\",\"ham\",\"ham\",\"ham\",\"ham\",\"ham\",\"ham\",\"ham\",\"ham\",\"ham\",\"ham\",\"ham\",\"ham\",\"ham\",\"ham\",\"ham\",\"ham\",\"ham\",\"ham\",\"ham\",\"ham\",\"ham\",\"ham\",\"ham\",\"ham\",\"ham\",\"ham\",\"ham\",\"ham\",\"ham\",\"ham\",\"ham\",\"ham\",\"ham\",\"ham\",\"ham\",\"ham\",\"ham\",\"ham\",\"ham\",\"ham\",\"ham\",\"ham\",\"ham\",\"ham\",\"ham\",\"ham\",\"ham\",\"ham\",\"ham\",\"ham\",\"ham\",\"ham\",\"ham\",\"ham\",\"ham\",\"ham\",\"ham\",\"ham\",\"ham\",\"ham\",\"ham\",\"ham\",\"ham\",\"ham\",\"ham\",\"ham\",\"ham\",\"ham\",\"ham\",\"ham\",\"ham\",\"ham\",\"ham\",\"ham\",\"ham\",\"ham\",\"ham\",\"ham\",\"ham\",\"ham\",\"ham\",\"ham\",\"ham\",\"ham\",\"ham\",\"ham\",\"ham\",\"ham\",\"ham\",\"ham\",\"ham\",\"ham\",\"ham\",\"ham\",\"ham\",\"ham\",\"ham\",\"ham\",\"ham\",\"ham\",\"ham\",\"ham\",\"ham\",\"ham\",\"ham\",\"ham\",\"ham\",\"ham\",\"ham\",\"ham\",\"ham\",\"ham\",\"ham\",\"ham\",\"ham\",\"ham\",\"ham\",\"ham\",\"ham\",\"ham\",\"ham\",\"ham\",\"ham\",\"ham\",\"ham\",\"ham\",\"ham\",\"ham\",\"ham\",\"ham\",\"ham\",\"ham\",\"ham\",\"ham\",\"ham\",\"ham\",\"ham\",\"ham\",\"ham\",\"ham\",\"ham\",\"ham\",\"ham\",\"ham\",\"ham\",\"ham\",\"ham\",\"ham\",\"ham\",\"ham\",\"ham\",\"ham\",\"ham\",\"ham\",\"ham\",\"ham\",\"ham\",\"ham\",\"ham\",\"ham\",\"ham\",\"ham\",\"ham\",\"ham\",\"ham\",\"ham\",\"ham\",\"ham\",\"ham\",\"ham\",\"ham\",\"ham\",\"ham\",\"ham\",\"ham\",\"ham\",\"ham\",\"ham\",\"ham\",\"ham\",\"ham\",\"ham\",\"ham\",\"ham\",\"ham\",\"ham\",\"ham\",\"ham\",\"ham\",\"ham\",\"ham\",\"ham\",\"ham\",\"ham\",\"ham\",\"ham\",\"ham\",\"ham\",\"ham\",\"ham\",\"ham\",\"ham\",\"ham\",\"ham\",\"ham\",\"ham\",\"ham\",\"ham\",\"ham\",\"ham\",\"ham\",\"ham\",\"ham\",\"ham\",\"ham\",\"ham\",\"ham\",\"ham\",\"ham\",\"ham\",\"ham\",\"ham\",\"ham\",\"ham\",\"ham\",\"ham\",\"ham\",\"ham\",\"ham\",\"ham\",\"ham\",\"ham\",\"ham\",\"ham\",\"ham\",\"ham\",\"ham\",\"ham\",\"ham\",\"ham\",\"ham\",\"ham\",\"ham\",\"ham\",\"ham\",\"ham\",\"ham\",\"ham\",\"ham\",\"ham\",\"ham\",\"ham\",\"ham\",\"ham\",\"ham\",\"ham\",\"ham\",\"ham\",\"ham\",\"ham\",\"ham\",\"ham\",\"ham\",\"ham\",\"ham\",\"ham\",\"ham\",\"ham\",\"ham\",\"ham\",\"ham\"],\"xaxis\":\"x\",\"yaxis\":\"y\",\"type\":\"histogram\"},{\"alignmentgroup\":\"True\",\"bingroup\":\"x\",\"hovertemplate\":\"label=%{x}<br>count=%{y}<extra></extra>\",\"legendgroup\":\"spam\",\"marker\":{\"color\":\"#E512D8\",\"pattern\":{\"shape\":\"\"}},\"name\":\"spam\",\"offsetgroup\":\"spam\",\"orientation\":\"v\",\"showlegend\":true,\"texttemplate\":\"%{value}\",\"x\":[\"spam\",\"spam\",\"spam\",\"spam\",\"spam\",\"spam\",\"spam\",\"spam\",\"spam\",\"spam\",\"spam\",\"spam\",\"spam\",\"spam\",\"spam\",\"spam\",\"spam\",\"spam\",\"spam\",\"spam\",\"spam\",\"spam\",\"spam\",\"spam\",\"spam\",\"spam\",\"spam\",\"spam\",\"spam\",\"spam\",\"spam\",\"spam\",\"spam\",\"spam\",\"spam\",\"spam\",\"spam\",\"spam\",\"spam\",\"spam\",\"spam\",\"spam\",\"spam\",\"spam\",\"spam\",\"spam\",\"spam\",\"spam\",\"spam\",\"spam\",\"spam\",\"spam\",\"spam\",\"spam\",\"spam\",\"spam\",\"spam\",\"spam\",\"spam\",\"spam\",\"spam\",\"spam\",\"spam\",\"spam\",\"spam\",\"spam\",\"spam\",\"spam\",\"spam\",\"spam\",\"spam\",\"spam\",\"spam\",\"spam\",\"spam\",\"spam\",\"spam\",\"spam\",\"spam\",\"spam\",\"spam\",\"spam\",\"spam\",\"spam\",\"spam\",\"spam\",\"spam\",\"spam\",\"spam\",\"spam\",\"spam\",\"spam\",\"spam\",\"spam\",\"spam\",\"spam\",\"spam\",\"spam\",\"spam\",\"spam\",\"spam\",\"spam\",\"spam\",\"spam\",\"spam\",\"spam\",\"spam\",\"spam\",\"spam\",\"spam\",\"spam\",\"spam\",\"spam\",\"spam\",\"spam\",\"spam\",\"spam\",\"spam\",\"spam\",\"spam\",\"spam\",\"spam\",\"spam\",\"spam\",\"spam\",\"spam\",\"spam\",\"spam\",\"spam\",\"spam\",\"spam\",\"spam\",\"spam\",\"spam\",\"spam\",\"spam\",\"spam\",\"spam\",\"spam\",\"spam\",\"spam\",\"spam\",\"spam\",\"spam\",\"spam\",\"spam\",\"spam\",\"spam\",\"spam\",\"spam\",\"spam\",\"spam\",\"spam\",\"spam\",\"spam\",\"spam\",\"spam\",\"spam\",\"spam\",\"spam\",\"spam\",\"spam\",\"spam\",\"spam\",\"spam\",\"spam\",\"spam\",\"spam\",\"spam\",\"spam\",\"spam\",\"spam\",\"spam\",\"spam\",\"spam\",\"spam\",\"spam\",\"spam\",\"spam\",\"spam\",\"spam\",\"spam\",\"spam\",\"spam\",\"spam\",\"spam\",\"spam\",\"spam\",\"spam\",\"spam\",\"spam\",\"spam\",\"spam\",\"spam\",\"spam\",\"spam\",\"spam\",\"spam\",\"spam\",\"spam\",\"spam\",\"spam\",\"spam\",\"spam\",\"spam\",\"spam\",\"spam\",\"spam\",\"spam\",\"spam\",\"spam\",\"spam\",\"spam\",\"spam\",\"spam\",\"spam\",\"spam\",\"spam\",\"spam\",\"spam\",\"spam\",\"spam\",\"spam\",\"spam\",\"spam\",\"spam\",\"spam\",\"spam\",\"spam\",\"spam\",\"spam\",\"spam\",\"spam\",\"spam\",\"spam\",\"spam\",\"spam\",\"spam\",\"spam\",\"spam\",\"spam\",\"spam\",\"spam\",\"spam\",\"spam\",\"spam\",\"spam\",\"spam\",\"spam\",\"spam\",\"spam\",\"spam\",\"spam\",\"spam\",\"spam\",\"spam\",\"spam\",\"spam\",\"spam\",\"spam\",\"spam\",\"spam\",\"spam\",\"spam\",\"spam\",\"spam\",\"spam\",\"spam\",\"spam\",\"spam\",\"spam\",\"spam\",\"spam\",\"spam\",\"spam\",\"spam\",\"spam\",\"spam\",\"spam\",\"spam\",\"spam\",\"spam\",\"spam\",\"spam\",\"spam\",\"spam\",\"spam\",\"spam\",\"spam\",\"spam\",\"spam\",\"spam\",\"spam\",\"spam\",\"spam\",\"spam\",\"spam\",\"spam\",\"spam\",\"spam\",\"spam\",\"spam\",\"spam\",\"spam\",\"spam\",\"spam\",\"spam\",\"spam\",\"spam\",\"spam\",\"spam\",\"spam\",\"spam\",\"spam\",\"spam\",\"spam\",\"spam\",\"spam\",\"spam\",\"spam\",\"spam\",\"spam\",\"spam\",\"spam\",\"spam\",\"spam\",\"spam\",\"spam\",\"spam\",\"spam\",\"spam\",\"spam\",\"spam\",\"spam\",\"spam\",\"spam\",\"spam\",\"spam\",\"spam\",\"spam\",\"spam\",\"spam\",\"spam\",\"spam\",\"spam\",\"spam\",\"spam\",\"spam\",\"spam\",\"spam\",\"spam\",\"spam\",\"spam\",\"spam\",\"spam\",\"spam\",\"spam\",\"spam\",\"spam\",\"spam\",\"spam\",\"spam\",\"spam\",\"spam\",\"spam\",\"spam\",\"spam\",\"spam\",\"spam\",\"spam\",\"spam\",\"spam\",\"spam\",\"spam\",\"spam\",\"spam\",\"spam\",\"spam\",\"spam\",\"spam\",\"spam\",\"spam\",\"spam\",\"spam\",\"spam\",\"spam\",\"spam\",\"spam\",\"spam\",\"spam\",\"spam\",\"spam\",\"spam\",\"spam\",\"spam\",\"spam\",\"spam\",\"spam\",\"spam\",\"spam\",\"spam\",\"spam\",\"spam\",\"spam\",\"spam\",\"spam\",\"spam\",\"spam\",\"spam\",\"spam\",\"spam\",\"spam\",\"spam\",\"spam\",\"spam\",\"spam\",\"spam\",\"spam\",\"spam\",\"spam\",\"spam\",\"spam\",\"spam\",\"spam\",\"spam\",\"spam\",\"spam\",\"spam\",\"spam\",\"spam\",\"spam\",\"spam\",\"spam\",\"spam\",\"spam\",\"spam\",\"spam\",\"spam\",\"spam\",\"spam\",\"spam\",\"spam\",\"spam\",\"spam\",\"spam\",\"spam\",\"spam\",\"spam\",\"spam\",\"spam\",\"spam\",\"spam\",\"spam\",\"spam\",\"spam\",\"spam\",\"spam\",\"spam\",\"spam\",\"spam\",\"spam\",\"spam\",\"spam\",\"spam\",\"spam\",\"spam\",\"spam\",\"spam\",\"spam\",\"spam\",\"spam\",\"spam\",\"spam\",\"spam\",\"spam\",\"spam\",\"spam\",\"spam\",\"spam\",\"spam\",\"spam\",\"spam\",\"spam\",\"spam\",\"spam\",\"spam\",\"spam\",\"spam\",\"spam\",\"spam\",\"spam\",\"spam\",\"spam\",\"spam\",\"spam\",\"spam\",\"spam\",\"spam\",\"spam\",\"spam\",\"spam\",\"spam\",\"spam\",\"spam\",\"spam\",\"spam\",\"spam\",\"spam\",\"spam\",\"spam\",\"spam\",\"spam\",\"spam\",\"spam\",\"spam\",\"spam\",\"spam\",\"spam\",\"spam\",\"spam\",\"spam\",\"spam\",\"spam\",\"spam\",\"spam\",\"spam\",\"spam\",\"spam\",\"spam\",\"spam\",\"spam\",\"spam\",\"spam\",\"spam\",\"spam\",\"spam\",\"spam\",\"spam\",\"spam\",\"spam\",\"spam\",\"spam\",\"spam\",\"spam\",\"spam\",\"spam\",\"spam\",\"spam\",\"spam\",\"spam\",\"spam\",\"spam\",\"spam\",\"spam\",\"spam\",\"spam\",\"spam\",\"spam\",\"spam\",\"spam\",\"spam\",\"spam\",\"spam\",\"spam\",\"spam\",\"spam\",\"spam\",\"spam\",\"spam\",\"spam\",\"spam\",\"spam\",\"spam\",\"spam\",\"spam\",\"spam\",\"spam\",\"spam\",\"spam\",\"spam\",\"spam\",\"spam\",\"spam\",\"spam\",\"spam\",\"spam\",\"spam\",\"spam\",\"spam\",\"spam\",\"spam\",\"spam\",\"spam\",\"spam\",\"spam\",\"spam\",\"spam\",\"spam\",\"spam\",\"spam\",\"spam\",\"spam\",\"spam\",\"spam\",\"spam\",\"spam\",\"spam\",\"spam\",\"spam\",\"spam\",\"spam\",\"spam\",\"spam\",\"spam\",\"spam\",\"spam\",\"spam\",\"spam\",\"spam\",\"spam\",\"spam\",\"spam\",\"spam\",\"spam\",\"spam\",\"spam\",\"spam\",\"spam\",\"spam\",\"spam\",\"spam\",\"spam\",\"spam\",\"spam\",\"spam\",\"spam\",\"spam\",\"spam\",\"spam\",\"spam\",\"spam\",\"spam\",\"spam\",\"spam\",\"spam\",\"spam\",\"spam\",\"spam\",\"spam\",\"spam\",\"spam\",\"spam\",\"spam\",\"spam\",\"spam\",\"spam\",\"spam\",\"spam\",\"spam\",\"spam\",\"spam\",\"spam\",\"spam\",\"spam\",\"spam\",\"spam\",\"spam\",\"spam\",\"spam\",\"spam\",\"spam\",\"spam\",\"spam\",\"spam\",\"spam\",\"spam\",\"spam\",\"spam\",\"spam\",\"spam\",\"spam\",\"spam\",\"spam\",\"spam\",\"spam\",\"spam\",\"spam\",\"spam\",\"spam\",\"spam\",\"spam\",\"spam\",\"spam\",\"spam\",\"spam\",\"spam\",\"spam\",\"spam\",\"spam\",\"spam\",\"spam\",\"spam\",\"spam\",\"spam\",\"spam\",\"spam\",\"spam\",\"spam\",\"spam\",\"spam\",\"spam\",\"spam\",\"spam\",\"spam\",\"spam\",\"spam\",\"spam\",\"spam\",\"spam\",\"spam\",\"spam\",\"spam\",\"spam\",\"spam\",\"spam\",\"spam\",\"spam\",\"spam\",\"spam\",\"spam\",\"spam\",\"spam\",\"spam\",\"spam\",\"spam\",\"spam\",\"spam\",\"spam\",\"spam\",\"spam\",\"spam\",\"spam\",\"spam\",\"spam\",\"spam\",\"spam\",\"spam\"],\"xaxis\":\"x\",\"yaxis\":\"y\",\"type\":\"histogram\"}],                        {\"template\":{\"data\":{\"barpolar\":[{\"marker\":{\"line\":{\"color\":\"white\",\"width\":0.5},\"pattern\":{\"fillmode\":\"overlay\",\"size\":10,\"solidity\":0.2}},\"type\":\"barpolar\"}],\"bar\":[{\"error_x\":{\"color\":\"rgb(36,36,36)\"},\"error_y\":{\"color\":\"rgb(36,36,36)\"},\"marker\":{\"line\":{\"color\":\"white\",\"width\":0.5},\"pattern\":{\"fillmode\":\"overlay\",\"size\":10,\"solidity\":0.2}},\"type\":\"bar\"}],\"carpet\":[{\"aaxis\":{\"endlinecolor\":\"rgb(36,36,36)\",\"gridcolor\":\"white\",\"linecolor\":\"white\",\"minorgridcolor\":\"white\",\"startlinecolor\":\"rgb(36,36,36)\"},\"baxis\":{\"endlinecolor\":\"rgb(36,36,36)\",\"gridcolor\":\"white\",\"linecolor\":\"white\",\"minorgridcolor\":\"white\",\"startlinecolor\":\"rgb(36,36,36)\"},\"type\":\"carpet\"}],\"choropleth\":[{\"colorbar\":{\"outlinewidth\":1,\"tickcolor\":\"rgb(36,36,36)\",\"ticks\":\"outside\"},\"type\":\"choropleth\"}],\"contourcarpet\":[{\"colorbar\":{\"outlinewidth\":1,\"tickcolor\":\"rgb(36,36,36)\",\"ticks\":\"outside\"},\"type\":\"contourcarpet\"}],\"contour\":[{\"colorbar\":{\"outlinewidth\":1,\"tickcolor\":\"rgb(36,36,36)\",\"ticks\":\"outside\"},\"colorscale\":[[0.0,\"#440154\"],[0.1111111111111111,\"#482878\"],[0.2222222222222222,\"#3e4989\"],[0.3333333333333333,\"#31688e\"],[0.4444444444444444,\"#26828e\"],[0.5555555555555556,\"#1f9e89\"],[0.6666666666666666,\"#35b779\"],[0.7777777777777778,\"#6ece58\"],[0.8888888888888888,\"#b5de2b\"],[1.0,\"#fde725\"]],\"type\":\"contour\"}],\"heatmapgl\":[{\"colorbar\":{\"outlinewidth\":1,\"tickcolor\":\"rgb(36,36,36)\",\"ticks\":\"outside\"},\"colorscale\":[[0.0,\"#440154\"],[0.1111111111111111,\"#482878\"],[0.2222222222222222,\"#3e4989\"],[0.3333333333333333,\"#31688e\"],[0.4444444444444444,\"#26828e\"],[0.5555555555555556,\"#1f9e89\"],[0.6666666666666666,\"#35b779\"],[0.7777777777777778,\"#6ece58\"],[0.8888888888888888,\"#b5de2b\"],[1.0,\"#fde725\"]],\"type\":\"heatmapgl\"}],\"heatmap\":[{\"colorbar\":{\"outlinewidth\":1,\"tickcolor\":\"rgb(36,36,36)\",\"ticks\":\"outside\"},\"colorscale\":[[0.0,\"#440154\"],[0.1111111111111111,\"#482878\"],[0.2222222222222222,\"#3e4989\"],[0.3333333333333333,\"#31688e\"],[0.4444444444444444,\"#26828e\"],[0.5555555555555556,\"#1f9e89\"],[0.6666666666666666,\"#35b779\"],[0.7777777777777778,\"#6ece58\"],[0.8888888888888888,\"#b5de2b\"],[1.0,\"#fde725\"]],\"type\":\"heatmap\"}],\"histogram2dcontour\":[{\"colorbar\":{\"outlinewidth\":1,\"tickcolor\":\"rgb(36,36,36)\",\"ticks\":\"outside\"},\"colorscale\":[[0.0,\"#440154\"],[0.1111111111111111,\"#482878\"],[0.2222222222222222,\"#3e4989\"],[0.3333333333333333,\"#31688e\"],[0.4444444444444444,\"#26828e\"],[0.5555555555555556,\"#1f9e89\"],[0.6666666666666666,\"#35b779\"],[0.7777777777777778,\"#6ece58\"],[0.8888888888888888,\"#b5de2b\"],[1.0,\"#fde725\"]],\"type\":\"histogram2dcontour\"}],\"histogram2d\":[{\"colorbar\":{\"outlinewidth\":1,\"tickcolor\":\"rgb(36,36,36)\",\"ticks\":\"outside\"},\"colorscale\":[[0.0,\"#440154\"],[0.1111111111111111,\"#482878\"],[0.2222222222222222,\"#3e4989\"],[0.3333333333333333,\"#31688e\"],[0.4444444444444444,\"#26828e\"],[0.5555555555555556,\"#1f9e89\"],[0.6666666666666666,\"#35b779\"],[0.7777777777777778,\"#6ece58\"],[0.8888888888888888,\"#b5de2b\"],[1.0,\"#fde725\"]],\"type\":\"histogram2d\"}],\"histogram\":[{\"marker\":{\"line\":{\"color\":\"white\",\"width\":0.6}},\"type\":\"histogram\"}],\"mesh3d\":[{\"colorbar\":{\"outlinewidth\":1,\"tickcolor\":\"rgb(36,36,36)\",\"ticks\":\"outside\"},\"type\":\"mesh3d\"}],\"parcoords\":[{\"line\":{\"colorbar\":{\"outlinewidth\":1,\"tickcolor\":\"rgb(36,36,36)\",\"ticks\":\"outside\"}},\"type\":\"parcoords\"}],\"pie\":[{\"automargin\":true,\"type\":\"pie\"}],\"scatter3d\":[{\"line\":{\"colorbar\":{\"outlinewidth\":1,\"tickcolor\":\"rgb(36,36,36)\",\"ticks\":\"outside\"}},\"marker\":{\"colorbar\":{\"outlinewidth\":1,\"tickcolor\":\"rgb(36,36,36)\",\"ticks\":\"outside\"}},\"type\":\"scatter3d\"}],\"scattercarpet\":[{\"marker\":{\"colorbar\":{\"outlinewidth\":1,\"tickcolor\":\"rgb(36,36,36)\",\"ticks\":\"outside\"}},\"type\":\"scattercarpet\"}],\"scattergeo\":[{\"marker\":{\"colorbar\":{\"outlinewidth\":1,\"tickcolor\":\"rgb(36,36,36)\",\"ticks\":\"outside\"}},\"type\":\"scattergeo\"}],\"scattergl\":[{\"marker\":{\"colorbar\":{\"outlinewidth\":1,\"tickcolor\":\"rgb(36,36,36)\",\"ticks\":\"outside\"}},\"type\":\"scattergl\"}],\"scattermapbox\":[{\"marker\":{\"colorbar\":{\"outlinewidth\":1,\"tickcolor\":\"rgb(36,36,36)\",\"ticks\":\"outside\"}},\"type\":\"scattermapbox\"}],\"scatterpolargl\":[{\"marker\":{\"colorbar\":{\"outlinewidth\":1,\"tickcolor\":\"rgb(36,36,36)\",\"ticks\":\"outside\"}},\"type\":\"scatterpolargl\"}],\"scatterpolar\":[{\"marker\":{\"colorbar\":{\"outlinewidth\":1,\"tickcolor\":\"rgb(36,36,36)\",\"ticks\":\"outside\"}},\"type\":\"scatterpolar\"}],\"scatter\":[{\"fillpattern\":{\"fillmode\":\"overlay\",\"size\":10,\"solidity\":0.2},\"type\":\"scatter\"}],\"scatterternary\":[{\"marker\":{\"colorbar\":{\"outlinewidth\":1,\"tickcolor\":\"rgb(36,36,36)\",\"ticks\":\"outside\"}},\"type\":\"scatterternary\"}],\"surface\":[{\"colorbar\":{\"outlinewidth\":1,\"tickcolor\":\"rgb(36,36,36)\",\"ticks\":\"outside\"},\"colorscale\":[[0.0,\"#440154\"],[0.1111111111111111,\"#482878\"],[0.2222222222222222,\"#3e4989\"],[0.3333333333333333,\"#31688e\"],[0.4444444444444444,\"#26828e\"],[0.5555555555555556,\"#1f9e89\"],[0.6666666666666666,\"#35b779\"],[0.7777777777777778,\"#6ece58\"],[0.8888888888888888,\"#b5de2b\"],[1.0,\"#fde725\"]],\"type\":\"surface\"}],\"table\":[{\"cells\":{\"fill\":{\"color\":\"rgb(237,237,237)\"},\"line\":{\"color\":\"white\"}},\"header\":{\"fill\":{\"color\":\"rgb(217,217,217)\"},\"line\":{\"color\":\"white\"}},\"type\":\"table\"}]},\"layout\":{\"annotationdefaults\":{\"arrowhead\":0,\"arrowwidth\":1},\"autotypenumbers\":\"strict\",\"coloraxis\":{\"colorbar\":{\"outlinewidth\":1,\"tickcolor\":\"rgb(36,36,36)\",\"ticks\":\"outside\"}},\"colorscale\":{\"diverging\":[[0.0,\"rgb(103,0,31)\"],[0.1,\"rgb(178,24,43)\"],[0.2,\"rgb(214,96,77)\"],[0.3,\"rgb(244,165,130)\"],[0.4,\"rgb(253,219,199)\"],[0.5,\"rgb(247,247,247)\"],[0.6,\"rgb(209,229,240)\"],[0.7,\"rgb(146,197,222)\"],[0.8,\"rgb(67,147,195)\"],[0.9,\"rgb(33,102,172)\"],[1.0,\"rgb(5,48,97)\"]],\"sequential\":[[0.0,\"#440154\"],[0.1111111111111111,\"#482878\"],[0.2222222222222222,\"#3e4989\"],[0.3333333333333333,\"#31688e\"],[0.4444444444444444,\"#26828e\"],[0.5555555555555556,\"#1f9e89\"],[0.6666666666666666,\"#35b779\"],[0.7777777777777778,\"#6ece58\"],[0.8888888888888888,\"#b5de2b\"],[1.0,\"#fde725\"]],\"sequentialminus\":[[0.0,\"#440154\"],[0.1111111111111111,\"#482878\"],[0.2222222222222222,\"#3e4989\"],[0.3333333333333333,\"#31688e\"],[0.4444444444444444,\"#26828e\"],[0.5555555555555556,\"#1f9e89\"],[0.6666666666666666,\"#35b779\"],[0.7777777777777778,\"#6ece58\"],[0.8888888888888888,\"#b5de2b\"],[1.0,\"#fde725\"]]},\"colorway\":[\"#1F77B4\",\"#FF7F0E\",\"#2CA02C\",\"#D62728\",\"#9467BD\",\"#8C564B\",\"#E377C2\",\"#7F7F7F\",\"#BCBD22\",\"#17BECF\"],\"font\":{\"color\":\"rgb(36,36,36)\"},\"geo\":{\"bgcolor\":\"white\",\"lakecolor\":\"white\",\"landcolor\":\"white\",\"showlakes\":true,\"showland\":true,\"subunitcolor\":\"white\"},\"hoverlabel\":{\"align\":\"left\"},\"hovermode\":\"closest\",\"mapbox\":{\"style\":\"light\"},\"paper_bgcolor\":\"white\",\"plot_bgcolor\":\"white\",\"polar\":{\"angularaxis\":{\"gridcolor\":\"rgb(232,232,232)\",\"linecolor\":\"rgb(36,36,36)\",\"showgrid\":false,\"showline\":true,\"ticks\":\"outside\"},\"bgcolor\":\"white\",\"radialaxis\":{\"gridcolor\":\"rgb(232,232,232)\",\"linecolor\":\"rgb(36,36,36)\",\"showgrid\":false,\"showline\":true,\"ticks\":\"outside\"}},\"scene\":{\"xaxis\":{\"backgroundcolor\":\"white\",\"gridcolor\":\"rgb(232,232,232)\",\"gridwidth\":2,\"linecolor\":\"rgb(36,36,36)\",\"showbackground\":true,\"showgrid\":false,\"showline\":true,\"ticks\":\"outside\",\"zeroline\":false,\"zerolinecolor\":\"rgb(36,36,36)\"},\"yaxis\":{\"backgroundcolor\":\"white\",\"gridcolor\":\"rgb(232,232,232)\",\"gridwidth\":2,\"linecolor\":\"rgb(36,36,36)\",\"showbackground\":true,\"showgrid\":false,\"showline\":true,\"ticks\":\"outside\",\"zeroline\":false,\"zerolinecolor\":\"rgb(36,36,36)\"},\"zaxis\":{\"backgroundcolor\":\"white\",\"gridcolor\":\"rgb(232,232,232)\",\"gridwidth\":2,\"linecolor\":\"rgb(36,36,36)\",\"showbackground\":true,\"showgrid\":false,\"showline\":true,\"ticks\":\"outside\",\"zeroline\":false,\"zerolinecolor\":\"rgb(36,36,36)\"}},\"shapedefaults\":{\"fillcolor\":\"black\",\"line\":{\"width\":0},\"opacity\":0.3},\"ternary\":{\"aaxis\":{\"gridcolor\":\"rgb(232,232,232)\",\"linecolor\":\"rgb(36,36,36)\",\"showgrid\":false,\"showline\":true,\"ticks\":\"outside\"},\"baxis\":{\"gridcolor\":\"rgb(232,232,232)\",\"linecolor\":\"rgb(36,36,36)\",\"showgrid\":false,\"showline\":true,\"ticks\":\"outside\"},\"bgcolor\":\"white\",\"caxis\":{\"gridcolor\":\"rgb(232,232,232)\",\"linecolor\":\"rgb(36,36,36)\",\"showgrid\":false,\"showline\":true,\"ticks\":\"outside\"}},\"title\":{\"x\":0.05},\"xaxis\":{\"automargin\":true,\"gridcolor\":\"rgb(232,232,232)\",\"linecolor\":\"rgb(36,36,36)\",\"showgrid\":false,\"showline\":true,\"ticks\":\"outside\",\"title\":{\"standoff\":15},\"zeroline\":false,\"zerolinecolor\":\"rgb(36,36,36)\"},\"yaxis\":{\"automargin\":true,\"gridcolor\":\"rgb(232,232,232)\",\"linecolor\":\"rgb(36,36,36)\",\"showgrid\":false,\"showline\":true,\"ticks\":\"outside\",\"title\":{\"standoff\":15},\"zeroline\":false,\"zerolinecolor\":\"rgb(36,36,36)\"}}},\"xaxis\":{\"anchor\":\"y\",\"domain\":[0.0,1.0],\"title\":{\"text\":\"SPAM OR HAM\"},\"categoryorder\":\"array\",\"categoryarray\":[\"ham\",\"spam\"]},\"yaxis\":{\"anchor\":\"x\",\"domain\":[0.0,1.0],\"title\":{\"text\":\"Count\"}},\"legend\":{\"title\":{\"text\":\"label\"},\"tracegroupgap\":0},\"title\":{\"text\":\"SPAM OR HAM\"},\"barmode\":\"relative\",\"bargap\":0.5},                        {\"responsive\": true}                    ).then(function(){\n",
       "                            \n",
       "var gd = document.getElementById('19cb3fae-66d9-40ec-a648-3d235b753b3a');\n",
       "var x = new MutationObserver(function (mutations, observer) {{\n",
       "        var display = window.getComputedStyle(gd).display;\n",
       "        if (!display || display === 'none') {{\n",
       "            console.log([gd, 'removed!']);\n",
       "            Plotly.purge(gd);\n",
       "            observer.disconnect();\n",
       "        }}\n",
       "}});\n",
       "\n",
       "// Listen for the removal of the full notebook cells\n",
       "var notebookContainer = gd.closest('#notebook-container');\n",
       "if (notebookContainer) {{\n",
       "    x.observe(notebookContainer, {childList: true});\n",
       "}}\n",
       "\n",
       "// Listen for the clearing of the current output cell\n",
       "var outputEl = gd.closest('.output');\n",
       "if (outputEl) {{\n",
       "    x.observe(outputEl, {childList: true});\n",
       "}}\n",
       "\n",
       "                        })                };                            </script>        </div>\n",
       "</body>\n",
       "</html>"
      ]
     },
     "metadata": {},
     "output_type": "display_data"
    }
   ],
   "source": [
    "# Histogram represntation\n",
    "import plotly.express as px\n",
    "fig = px.histogram(df, \n",
    "                   x='label',\n",
    "                   color = 'label',\n",
    "                   text_auto=True, \n",
    "                   color_discrete_sequence=[\"#0be1f0\", \"#E512D8\"], \n",
    "                   template='simple_white',\n",
    "                   labels={\"SPAM\": \"Target\"},\n",
    "                   title='SPAM OR HAM'\n",
    "                   )\n",
    "fig.update_layout(bargap=0.5, xaxis_title=\"SPAM OR HAM\",yaxis_title=\"Count\")\n",
    "fig.show()"
   ]
  },
  {
   "cell_type": "code",
   "execution_count": null,
   "metadata": {
    "colab": {
     "base_uri": "https://localhost:8080/",
     "height": 143
    },
    "id": "c-QDcc300aa2",
    "outputId": "d7788eaa-8ae1-45ea-e559-7940a40174c9"
   },
   "outputs": [
    {
     "data": {
      "text/html": [
       "\n",
       "  <div id=\"df-af05c49c-edb8-424c-876b-3afa2129e00b\">\n",
       "    <div class=\"colab-df-container\">\n",
       "      <div>\n",
       "<style scoped>\n",
       "    .dataframe tbody tr th:only-of-type {\n",
       "        vertical-align: middle;\n",
       "    }\n",
       "\n",
       "    .dataframe tbody tr th {\n",
       "        vertical-align: top;\n",
       "    }\n",
       "\n",
       "    .dataframe thead th {\n",
       "        text-align: right;\n",
       "    }\n",
       "</style>\n",
       "<table border=\"1\" class=\"dataframe\">\n",
       "  <thead>\n",
       "    <tr style=\"text-align: right;\">\n",
       "      <th></th>\n",
       "      <th>count</th>\n",
       "      <th>mean</th>\n",
       "      <th>std</th>\n",
       "      <th>min</th>\n",
       "      <th>25%</th>\n",
       "      <th>50%</th>\n",
       "      <th>75%</th>\n",
       "      <th>max</th>\n",
       "    </tr>\n",
       "  </thead>\n",
       "  <tbody>\n",
       "    <tr>\n",
       "      <th>No_of_Characters</th>\n",
       "      <td>5570.0</td>\n",
       "      <td>80.624776</td>\n",
       "      <td>60.015976</td>\n",
       "      <td>2.0</td>\n",
       "      <td>36.0</td>\n",
       "      <td>62.0</td>\n",
       "      <td>122.0</td>\n",
       "      <td>910.0</td>\n",
       "    </tr>\n",
       "    <tr>\n",
       "      <th>No_of_Words</th>\n",
       "      <td>5570.0</td>\n",
       "      <td>18.849551</td>\n",
       "      <td>13.864620</td>\n",
       "      <td>1.0</td>\n",
       "      <td>9.0</td>\n",
       "      <td>15.0</td>\n",
       "      <td>27.0</td>\n",
       "      <td>220.0</td>\n",
       "    </tr>\n",
       "    <tr>\n",
       "      <th>No_of_sentence</th>\n",
       "      <td>5570.0</td>\n",
       "      <td>2.006284</td>\n",
       "      <td>1.540195</td>\n",
       "      <td>1.0</td>\n",
       "      <td>1.0</td>\n",
       "      <td>2.0</td>\n",
       "      <td>3.0</td>\n",
       "      <td>38.0</td>\n",
       "    </tr>\n",
       "  </tbody>\n",
       "</table>\n",
       "</div>\n",
       "      <button class=\"colab-df-convert\" onclick=\"convertToInteractive('df-af05c49c-edb8-424c-876b-3afa2129e00b')\"\n",
       "              title=\"Convert this dataframe to an interactive table.\"\n",
       "              style=\"display:none;\">\n",
       "        \n",
       "  <svg xmlns=\"http://www.w3.org/2000/svg\" height=\"24px\"viewBox=\"0 0 24 24\"\n",
       "       width=\"24px\">\n",
       "    <path d=\"M0 0h24v24H0V0z\" fill=\"none\"/>\n",
       "    <path d=\"M18.56 5.44l.94 2.06.94-2.06 2.06-.94-2.06-.94-.94-2.06-.94 2.06-2.06.94zm-11 1L8.5 8.5l.94-2.06 2.06-.94-2.06-.94L8.5 2.5l-.94 2.06-2.06.94zm10 10l.94 2.06.94-2.06 2.06-.94-2.06-.94-.94-2.06-.94 2.06-2.06.94z\"/><path d=\"M17.41 7.96l-1.37-1.37c-.4-.4-.92-.59-1.43-.59-.52 0-1.04.2-1.43.59L10.3 9.45l-7.72 7.72c-.78.78-.78 2.05 0 2.83L4 21.41c.39.39.9.59 1.41.59.51 0 1.02-.2 1.41-.59l7.78-7.78 2.81-2.81c.8-.78.8-2.07 0-2.86zM5.41 20L4 18.59l7.72-7.72 1.47 1.35L5.41 20z\"/>\n",
       "  </svg>\n",
       "      </button>\n",
       "      \n",
       "  <style>\n",
       "    .colab-df-container {\n",
       "      display:flex;\n",
       "      flex-wrap:wrap;\n",
       "      gap: 12px;\n",
       "    }\n",
       "\n",
       "    .colab-df-convert {\n",
       "      background-color: #E8F0FE;\n",
       "      border: none;\n",
       "      border-radius: 50%;\n",
       "      cursor: pointer;\n",
       "      display: none;\n",
       "      fill: #1967D2;\n",
       "      height: 32px;\n",
       "      padding: 0 0 0 0;\n",
       "      width: 32px;\n",
       "    }\n",
       "\n",
       "    .colab-df-convert:hover {\n",
       "      background-color: #E2EBFA;\n",
       "      box-shadow: 0px 1px 2px rgba(60, 64, 67, 0.3), 0px 1px 3px 1px rgba(60, 64, 67, 0.15);\n",
       "      fill: #174EA6;\n",
       "    }\n",
       "\n",
       "    [theme=dark] .colab-df-convert {\n",
       "      background-color: #3B4455;\n",
       "      fill: #D2E3FC;\n",
       "    }\n",
       "\n",
       "    [theme=dark] .colab-df-convert:hover {\n",
       "      background-color: #434B5C;\n",
       "      box-shadow: 0px 1px 3px 1px rgba(0, 0, 0, 0.15);\n",
       "      filter: drop-shadow(0px 1px 2px rgba(0, 0, 0, 0.3));\n",
       "      fill: #FFFFFF;\n",
       "    }\n",
       "  </style>\n",
       "\n",
       "      <script>\n",
       "        const buttonEl =\n",
       "          document.querySelector('#df-af05c49c-edb8-424c-876b-3afa2129e00b button.colab-df-convert');\n",
       "        buttonEl.style.display =\n",
       "          google.colab.kernel.accessAllowed ? 'block' : 'none';\n",
       "\n",
       "        async function convertToInteractive(key) {\n",
       "          const element = document.querySelector('#df-af05c49c-edb8-424c-876b-3afa2129e00b');\n",
       "          const dataTable =\n",
       "            await google.colab.kernel.invokeFunction('convertToInteractive',\n",
       "                                                     [key], {});\n",
       "          if (!dataTable) return;\n",
       "\n",
       "          const docLinkHtml = 'Like what you see? Visit the ' +\n",
       "            '<a target=\"_blank\" href=https://colab.research.google.com/notebooks/data_table.ipynb>data table notebook</a>'\n",
       "            + ' to learn more about interactive tables.';\n",
       "          element.innerHTML = '';\n",
       "          dataTable['output_type'] = 'display_data';\n",
       "          await google.colab.output.renderOutput(dataTable, element);\n",
       "          const docLink = document.createElement('div');\n",
       "          docLink.innerHTML = docLinkHtml;\n",
       "          element.appendChild(docLink);\n",
       "        }\n",
       "      </script>\n",
       "    </div>\n",
       "  </div>\n",
       "  "
      ],
      "text/plain": [
       "                   count       mean        std  min   25%   50%    75%    max\n",
       "No_of_Characters  5570.0  80.624776  60.015976  2.0  36.0  62.0  122.0  910.0\n",
       "No_of_Words       5570.0  18.849551  13.864620  1.0   9.0  15.0   27.0  220.0\n",
       "No_of_sentence    5570.0   2.006284   1.540195  1.0   1.0   2.0    3.0   38.0"
      ]
     },
     "execution_count": 94,
     "metadata": {},
     "output_type": "execute_result"
    }
   ],
   "source": [
    "#PS. At this step, I tokenised the words and sentences and used the length of the same.\n",
    "#Adding a column of numbers of charachters,words and sentences in each msg\n",
    "df[\"No_of_Characters\"] = df[\"messages\"].apply(len)\n",
    "df[\"No_of_Words\"]=df.apply(lambda row: nltk.word_tokenize(row[\"messages\"]), axis=1).apply(len)\n",
    "df[\"No_of_sentence\"]=df.apply(lambda row: nltk.sent_tokenize(row[\"messages\"]), axis=1).apply(len)\n",
    "\n",
    "df.describe().T"
   ]
  },
  {
   "cell_type": "code",
   "execution_count": null,
   "metadata": {
    "colab": {
     "base_uri": "https://localhost:8080/",
     "height": 775
    },
    "id": "wa8TFsVn5EGm",
    "outputId": "96ea4d7b-d589-4a5d-d85b-1df80569ae91"
   },
   "outputs": [
    {
     "data": {
      "text/plain": [
       "<Figure size 1200x800 with 0 Axes>"
      ]
     },
     "metadata": {},
     "output_type": "display_data"
    },
    {
     "data": {
      "image/png": "[encoded data removed]",
      "text/plain": [
       "<Figure size 838.125x750 with 12 Axes>"
      ]
     },
     "metadata": {},
     "output_type": "display_data"
    }
   ],
   "source": [
    "plt.figure(figsize=(12,8))\n",
    "fg = sns.pairplot(data=df, hue=\"label\",palette=(\"#0be1f0\", \"#E512D8\"))\n",
    "plt.show(fg)"
   ]
  },
  {
   "cell_type": "code",
   "execution_count": null,
   "metadata": {
    "colab": {
     "base_uri": "https://localhost:8080/"
    },
    "id": "TGRGoUkJ5suZ",
    "outputId": "68789b44-55e1-4a84-8826-85e126261708"
   },
   "outputs": [
    {
     "data": {
      "text/plain": [
       "(5545, 5)"
      ]
     },
     "execution_count": 96,
     "metadata": {},
     "output_type": "execute_result"
    }
   ],
   "source": [
    " #From the pair plot, we can see a few outliers all in the class ham. This is interesting as we could put a cap over one of these.\n",
    " #Dropping the outliers. \n",
    "df = df[(df[\"No_of_Characters\"]<350)]\n",
    "df.shape"
   ]
  },
  {
   "cell_type": "markdown",
   "metadata": {
    "id": "Nyy2wC9G6Gh-"
   },
   "source": [
    "##Text Cleaning"
   ]
  },
  {
   "cell_type": "code",
   "execution_count": null,
   "metadata": {
    "colab": {
     "base_uri": "https://localhost:8080/"
    },
    "id": "APp7V5IE6LXF",
    "outputId": "ae84ead4-6153-4bb7-fa82-3104c60630eb"
   },
   "outputs": [
    {
     "name": "stdout",
     "output_type": "stream",
     "text": [
      " \u001b[1m\u001b[24;1mThe First 5 Texts after cleaning:\u001b[0m\n",
      "ok lar joking wif u oni\n",
      "free entry in a wkly comp to win fa cup final tkts st may text fa to to receive entry question std txt rate t c s apply over s\n",
      "u dun say so early hor u c already then say\n",
      "nah i don t think he goes to usf he lives around here though\n",
      "freemsg hey there darling it s been week s now and no word back i d like some fun you up for it still tb ok xxx std chgs to send to rcv\n"
     ]
    },
    {
     "name": "stderr",
     "output_type": "stream",
     "text": [
      "<ipython-input-97-c0d17d685218>:9: SettingWithCopyWarning:\n",
      "\n",
      "\n",
      "A value is trying to be set on a copy of a slice from a DataFrame.\n",
      "Try using .loc[row_indexer,col_indexer] = value instead\n",
      "\n",
      "See the caveats in the documentation: https://pandas.pydata.org/pandas-docs/stable/user_guide/indexing.html#returning-a-view-versus-a-copy\n",
      "\n"
     ]
    }
   ],
   "source": [
    "# Defining a function to clean up the text\n",
    "def Clean(Text):\n",
    "    sms = re.sub('[^a-zA-Z]', ' ', Text) #Replacing all non-alphabetic characters with a space\n",
    "    sms = sms.lower() #converting to lowecase\n",
    "    sms = sms.split()\n",
    "    sms = ' '.join(sms)\n",
    "    return sms\n",
    "\n",
    "df[\"Clean_Text\"] = df[\"messages\"].apply(Clean)\n",
    "#Lets have a look at a sample of texts after cleaning\n",
    "print(\" \\033[1m\\u001b[24;1mThe First 5 Texts after cleaning:\\033[0m\",*df[\"Clean_Text\"][:5], sep = \"\\n\")"
   ]
  },
  {
   "cell_type": "markdown",
   "metadata": {
    "id": "dVoReNki7rMZ"
   },
   "source": [
    "##Tokenization"
   ]
  },
  {
   "cell_type": "code",
   "execution_count": null,
   "metadata": {
    "colab": {
     "base_uri": "https://localhost:8080/"
    },
    "id": "_fqNTfg77xkU",
    "outputId": "ac85de74-e404-42ae-b46c-6eb8dfda20c2"
   },
   "outputs": [
    {
     "name": "stdout",
     "output_type": "stream",
     "text": [
      "\u001b[1m\u001b[24;1m The First 5 Texts after Tokenizing:\u001b[0m\n",
      "['ok', 'lar', 'joking', 'wif', 'u', 'oni']\n",
      "['free', 'entry', 'in', 'a', 'wkly', 'comp', 'to', 'win', 'fa', 'cup', 'final', 'tkts', 'st', 'may', 'text', 'fa', 'to', 'to', 'receive', 'entry', 'question', 'std', 'txt', 'rate', 't', 'c', 's', 'apply', 'over', 's']\n",
      "['u', 'dun', 'say', 'so', 'early', 'hor', 'u', 'c', 'already', 'then', 'say']\n",
      "['nah', 'i', 'don', 't', 'think', 'he', 'goes', 'to', 'usf', 'he', 'lives', 'around', 'here', 'though']\n",
      "['freemsg', 'hey', 'there', 'darling', 'it', 's', 'been', 'week', 's', 'now', 'and', 'no', 'word', 'back', 'i', 'd', 'like', 'some', 'fun', 'you', 'up', 'for', 'it', 'still', 'tb', 'ok', 'xxx', 'std', 'chgs', 'to', 'send', 'to', 'rcv']\n"
     ]
    },
    {
     "name": "stderr",
     "output_type": "stream",
     "text": [
      "<ipython-input-98-3f561447fbc0>:2: SettingWithCopyWarning:\n",
      "\n",
      "\n",
      "A value is trying to be set on a copy of a slice from a DataFrame.\n",
      "Try using .loc[row_indexer,col_indexer] = value instead\n",
      "\n",
      "See the caveats in the documentation: https://pandas.pydata.org/pandas-docs/stable/user_guide/indexing.html#returning-a-view-versus-a-copy\n",
      "\n"
     ]
    }
   ],
   "source": [
    "# breaking complex data into smaller units called tokens. It can be done by splitting paragraphs into sentences and sentences into words.\n",
    "df[\"Tokenize_Text\"]=df.apply(lambda row: nltk.word_tokenize(row[\"Clean_Text\"]), axis=1)\n",
    "\n",
    "print(\"\\033[1m\\u001b[24;1m The First 5 Texts after Tokenizing:\\033[0m\",*df[\"Tokenize_Text\"][:5], sep = \"\\n\")"
   ]
  },
  {
   "cell_type": "markdown",
   "metadata": {
    "id": "j27cEtQz8M6L"
   },
   "source": [
    "##Stop Words"
   ]
  },
  {
   "cell_type": "code",
   "execution_count": null,
   "metadata": {
    "colab": {
     "base_uri": "https://localhost:8080/"
    },
    "id": "jsscCKPU8OAu",
    "outputId": "25dd9f5a-4edf-4bf9-e1b2-faf39f93f746"
   },
   "outputs": [
    {
     "name": "stdout",
     "output_type": "stream",
     "text": [
      "\u001b[1m\u001b[24;1m The First 5 Texts after removing the stopwords:\u001b[0m\n",
      "['ok', 'lar', 'joking', 'wif', 'u', 'oni']\n",
      "['free', 'entry', 'wkly', 'comp', 'win', 'fa', 'cup', 'final', 'tkts', 'st', 'may', 'text', 'fa', 'receive', 'entry', 'question', 'std', 'txt', 'rate', 'c', 'apply']\n",
      "['u', 'dun', 'say', 'early', 'hor', 'u', 'c', 'already', 'say']\n",
      "['nah', 'think', 'goes', 'usf', 'lives', 'around', 'though']\n",
      "['freemsg', 'hey', 'darling', 'week', 'word', 'back', 'like', 'fun', 'still', 'tb', 'ok', 'xxx', 'std', 'chgs', 'send', 'rcv']\n"
     ]
    },
    {
     "name": "stderr",
     "output_type": "stream",
     "text": [
      "<ipython-input-99-b3d193bc1288>:11: SettingWithCopyWarning:\n",
      "\n",
      "\n",
      "A value is trying to be set on a copy of a slice from a DataFrame.\n",
      "Try using .loc[row_indexer,col_indexer] = value instead\n",
      "\n",
      "See the caveats in the documentation: https://pandas.pydata.org/pandas-docs/stable/user_guide/indexing.html#returning-a-view-versus-a-copy\n",
      "\n"
     ]
    }
   ],
   "source": [
    "#REMOVING STOPWORDS\n",
    "#Stopwords are frequently occurring words(such as few, is, an, etc). \n",
    "#These words hold meaning in sentence structure, but do not contribute much to language processing in NLP\n",
    "# Removing the stopwords function\n",
    "\n",
    "def remove_stopwords(text):\n",
    "    stop_words = set(stopwords.words(\"english\"))\n",
    "    filtered_text = [word for word in text if word not in stop_words]\n",
    "    return filtered_text\n",
    "\n",
    "df[\"Nostopword_Text\"] = df[\"Tokenize_Text\"].apply(remove_stopwords)\n",
    "\n",
    "print(\"\\033[1m\\u001b[24;1m The First 5 Texts after removing the stopwords:\\033[0m\",*df[\"Nostopword_Text\"][:5], sep = \"\\n\")"
   ]
  },
  {
   "cell_type": "markdown",
   "metadata": {
    "id": "iWPFobkj8pSS"
   },
   "source": [
    "##Stemming and lemmatization"
   ]
  },
  {
   "cell_type": "code",
   "execution_count": null,
   "metadata": {
    "colab": {
     "base_uri": "https://localhost:8080/"
    },
    "id": "8wT0O9ch8yu1",
    "outputId": "17ccb01a-f5e2-4725-ec19-5981d3229546"
   },
   "outputs": [
    {
     "name": "stdout",
     "output_type": "stream",
     "text": [
      "\u001b[1m\u001b[24;1m The First 5 Texts after lemitization:\u001b[0m\n",
      "['ok', 'lar', 'joke', 'wif', 'u', 'oni']\n",
      "['free', 'entry', 'wkly', 'comp', 'win', 'fa', 'cup', 'final', 'tkts', 'st', 'may', 'text', 'fa', 'receive', 'entry', 'question', 'std', 'txt', 'rate', 'c', 'apply']\n",
      "['u', 'dun', 'say', 'early', 'hor', 'u', 'c', 'already', 'say']\n",
      "['nah', 'think', 'go', 'usf', 'live', 'around', 'though']\n",
      "['freemsg', 'hey', 'darling', 'week', 'word', 'back', 'like', 'fun', 'still', 'tb', 'ok', 'xxx', 'std', 'chgs', 'send', 'rcv']\n"
     ]
    },
    {
     "name": "stderr",
     "output_type": "stream",
     "text": [
      "<ipython-input-100-89b6504d9d6a>:13: SettingWithCopyWarning:\n",
      "\n",
      "\n",
      "A value is trying to be set on a copy of a slice from a DataFrame.\n",
      "Try using .loc[row_indexer,col_indexer] = value instead\n",
      "\n",
      "See the caveats in the documentation: https://pandas.pydata.org/pandas-docs/stable/user_guide/indexing.html#returning-a-view-versus-a-copy\n",
      "\n"
     ]
    }
   ],
   "source": [
    "#The stem of a word is created by removing the prefix or suffix of a word.\n",
    "#lemmatization also converts a word to its root form\n",
    "#lemmatization ensures that the root word belongs to the language one is dealing with\n",
    "\n",
    "lemmatizer = WordNetLemmatizer()\n",
    "# lemmatize string\n",
    "def lemmatize_word(text):\n",
    "    #word_tokens = word_tokenize(text)\n",
    "    # provide context i.e. part-of-speech\n",
    "    lemmas = [lemmatizer.lemmatize(word, pos ='v') for word in text]\n",
    "    return lemmas\n",
    "\n",
    "df[\"Lemmatized_Text\"] = df[\"Nostopword_Text\"].apply(lemmatize_word)\n",
    "print(\"\\033[1m\\u001b[24;1m The First 5 Texts after lemitization:\\033[0m\",*df[\"Lemmatized_Text\"][:5], sep = \"\\n\")"
   ]
  },
  {
   "cell_type": "markdown",
   "metadata": {
    "id": "CptHnNDf9qRZ"
   },
   "source": [
    "##TF-IDF"
   ]
  },
  {
   "cell_type": "code",
   "execution_count": null,
   "metadata": {
    "colab": {
     "base_uri": "https://localhost:8080/"
    },
    "id": "B5ZBsIbD9sdZ",
    "outputId": "eaf337ea-f144-4443-c7ea-b9e1fe935919"
   },
   "outputs": [
    {
     "name": "stdout",
     "output_type": "stream",
     "text": [
      "\u001b[1m\u001b[24;1m The First 5 lines in corpus :\u001b[0m\n",
      "ok lar joke wif u oni\n",
      "free entry wkly comp win fa cup final tkts st may text fa receive entry question std txt rate c apply\n",
      "u dun say early hor u c already say\n",
      "nah think go usf live around though\n",
      "freemsg hey darling week word back like fun still tb ok xxx std chgs send rcv\n"
     ]
    }
   ],
   "source": [
    "#Creating a corpus of text feature to encode further into vectorized form\n",
    "corpus= []\n",
    "for i in df[\"Lemmatized_Text\"]:\n",
    "    msg = ' '.join([row for row in i])\n",
    "    corpus.append(msg)\n",
    "    \n",
    "corpus[:5]\n",
    "print(\"\\033[1m\\u001b[24;1m The First 5 lines in corpus :\\033[0m\",*corpus[:5], sep = \"\\n\")"
   ]
  },
  {
   "cell_type": "code",
   "execution_count": null,
   "metadata": {
    "colab": {
     "base_uri": "https://localhost:8080/"
    },
    "id": "jzyisJHo95sZ",
    "outputId": "908a2cc0-71ec-45ab-e0a9-15893022bb7f"
   },
   "outputs": [
    {
     "data": {
      "text/plain": [
       "dtype('float64')"
      ]
     },
     "execution_count": 102,
     "metadata": {},
     "output_type": "execute_result"
    }
   ],
   "source": [
    "#Changing text data in to numbers. \n",
    "tfidf = TfidfVectorizer()\n",
    "X = tfidf.fit_transform(corpus).toarray()\n",
    "#Let's have a look at our feature \n",
    "X.dtype\n"
   ]
  },
  {
   "cell_type": "code",
   "execution_count": null,
   "metadata": {
    "colab": {
     "base_uri": "https://localhost:8080/"
    },
    "id": "HxIQq6PrfU3N",
    "outputId": "ea6d596a-3eef-4402-c939-8ee2e079cb4d"
   },
   "outputs": [
    {
     "data": {
      "text/plain": [
       "array([[0., 0., 0., ..., 0., 0., 0.],\n",
       "       [0., 0., 0., ..., 0., 0., 0.],\n",
       "       [0., 0., 0., ..., 0., 0., 0.],\n",
       "       ...,\n",
       "       [0., 0., 0., ..., 0., 0., 0.],\n",
       "       [0., 0., 0., ..., 0., 0., 0.],\n",
       "       [0., 0., 0., ..., 0., 0., 0.]])"
      ]
     },
     "execution_count": 109,
     "metadata": {},
     "output_type": "execute_result"
    }
   ],
   "source": [
    "X"
   ]
  },
  {
   "cell_type": "code",
   "execution_count": null,
   "metadata": {
    "colab": {
     "base_uri": "https://localhost:8080/",
     "height": 510
    },
    "id": "Hwg28FDF9884",
    "outputId": "df4cb65f-c8b1-428f-9205-1c745708dbcb"
   },
   "outputs": [
    {
     "name": "stderr",
     "output_type": "stream",
     "text": [
      "<ipython-input-103-92dcc2fce934>:3: SettingWithCopyWarning:\n",
      "\n",
      "\n",
      "A value is trying to be set on a copy of a slice from a DataFrame.\n",
      "Try using .loc[row_indexer,col_indexer] = value instead\n",
      "\n",
      "See the caveats in the documentation: https://pandas.pydata.org/pandas-docs/stable/user_guide/indexing.html#returning-a-view-versus-a-copy\n",
      "\n"
     ]
    },
    {
     "data": {
      "text/html": [
       "\n",
       "  <div id=\"df-d7b99728-8953-4cc4-9bb1-77bc99529d06\">\n",
       "    <div class=\"colab-df-container\">\n",
       "      <div>\n",
       "<style scoped>\n",
       "    .dataframe tbody tr th:only-of-type {\n",
       "        vertical-align: middle;\n",
       "    }\n",
       "\n",
       "    .dataframe tbody tr th {\n",
       "        vertical-align: top;\n",
       "    }\n",
       "\n",
       "    .dataframe thead th {\n",
       "        text-align: right;\n",
       "    }\n",
       "</style>\n",
       "<table border=\"1\" class=\"dataframe\">\n",
       "  <thead>\n",
       "    <tr style=\"text-align: right;\">\n",
       "      <th></th>\n",
       "      <th>label</th>\n",
       "      <th>messages</th>\n",
       "      <th>No_of_Characters</th>\n",
       "      <th>No_of_Words</th>\n",
       "      <th>No_of_sentence</th>\n",
       "      <th>Clean_Text</th>\n",
       "      <th>Tokenize_Text</th>\n",
       "      <th>Nostopword_Text</th>\n",
       "      <th>Lemmatized_Text</th>\n",
       "    </tr>\n",
       "  </thead>\n",
       "  <tbody>\n",
       "    <tr>\n",
       "      <th>0</th>\n",
       "      <td>0</td>\n",
       "      <td>Ok lar... Joking wif u oni...</td>\n",
       "      <td>29</td>\n",
       "      <td>8</td>\n",
       "      <td>2</td>\n",
       "      <td>ok lar joking wif u oni</td>\n",
       "      <td>[ok, lar, joking, wif, u, oni]</td>\n",
       "      <td>[ok, lar, joking, wif, u, oni]</td>\n",
       "      <td>[ok, lar, joke, wif, u, oni]</td>\n",
       "    </tr>\n",
       "    <tr>\n",
       "      <th>1</th>\n",
       "      <td>1</td>\n",
       "      <td>Free entry in 2 a wkly comp to win FA Cup fina...</td>\n",
       "      <td>155</td>\n",
       "      <td>37</td>\n",
       "      <td>2</td>\n",
       "      <td>free entry in a wkly comp to win fa cup final ...</td>\n",
       "      <td>[free, entry, in, a, wkly, comp, to, win, fa, ...</td>\n",
       "      <td>[free, entry, wkly, comp, win, fa, cup, final,...</td>\n",
       "      <td>[free, entry, wkly, comp, win, fa, cup, final,...</td>\n",
       "    </tr>\n",
       "    <tr>\n",
       "      <th>2</th>\n",
       "      <td>0</td>\n",
       "      <td>U dun say so early hor... U c already then say...</td>\n",
       "      <td>49</td>\n",
       "      <td>13</td>\n",
       "      <td>1</td>\n",
       "      <td>u dun say so early hor u c already then say</td>\n",
       "      <td>[u, dun, say, so, early, hor, u, c, already, t...</td>\n",
       "      <td>[u, dun, say, early, hor, u, c, already, say]</td>\n",
       "      <td>[u, dun, say, early, hor, u, c, already, say]</td>\n",
       "    </tr>\n",
       "    <tr>\n",
       "      <th>3</th>\n",
       "      <td>0</td>\n",
       "      <td>Nah I don't think he goes to usf, he lives aro...</td>\n",
       "      <td>61</td>\n",
       "      <td>15</td>\n",
       "      <td>1</td>\n",
       "      <td>nah i don t think he goes to usf he lives arou...</td>\n",
       "      <td>[nah, i, don, t, think, he, goes, to, usf, he,...</td>\n",
       "      <td>[nah, think, goes, usf, lives, around, though]</td>\n",
       "      <td>[nah, think, go, usf, live, around, though]</td>\n",
       "    </tr>\n",
       "    <tr>\n",
       "      <th>4</th>\n",
       "      <td>1</td>\n",
       "      <td>FreeMsg Hey there darling it's been 3 week's n...</td>\n",
       "      <td>148</td>\n",
       "      <td>39</td>\n",
       "      <td>4</td>\n",
       "      <td>freemsg hey there darling it s been week s now...</td>\n",
       "      <td>[freemsg, hey, there, darling, it, s, been, we...</td>\n",
       "      <td>[freemsg, hey, darling, week, word, back, like...</td>\n",
       "      <td>[freemsg, hey, darling, week, word, back, like...</td>\n",
       "    </tr>\n",
       "  </tbody>\n",
       "</table>\n",
       "</div>\n",
       "      <button class=\"colab-df-convert\" onclick=\"convertToInteractive('df-d7b99728-8953-4cc4-9bb1-77bc99529d06')\"\n",
       "              title=\"Convert this dataframe to an interactive table.\"\n",
       "              style=\"display:none;\">\n",
       "        \n",
       "  <svg xmlns=\"http://www.w3.org/2000/svg\" height=\"24px\"viewBox=\"0 0 24 24\"\n",
       "       width=\"24px\">\n",
       "    <path d=\"M0 0h24v24H0V0z\" fill=\"none\"/>\n",
       "    <path d=\"M18.56 5.44l.94 2.06.94-2.06 2.06-.94-2.06-.94-.94-2.06-.94 2.06-2.06.94zm-11 1L8.5 8.5l.94-2.06 2.06-.94-2.06-.94L8.5 2.5l-.94 2.06-2.06.94zm10 10l.94 2.06.94-2.06 2.06-.94-2.06-.94-.94-2.06-.94 2.06-2.06.94z\"/><path d=\"M17.41 7.96l-1.37-1.37c-.4-.4-.92-.59-1.43-.59-.52 0-1.04.2-1.43.59L10.3 9.45l-7.72 7.72c-.78.78-.78 2.05 0 2.83L4 21.41c.39.39.9.59 1.41.59.51 0 1.02-.2 1.41-.59l7.78-7.78 2.81-2.81c.8-.78.8-2.07 0-2.86zM5.41 20L4 18.59l7.72-7.72 1.47 1.35L5.41 20z\"/>\n",
       "  </svg>\n",
       "      </button>\n",
       "      \n",
       "  <style>\n",
       "    .colab-df-container {\n",
       "      display:flex;\n",
       "      flex-wrap:wrap;\n",
       "      gap: 12px;\n",
       "    }\n",
       "\n",
       "    .colab-df-convert {\n",
       "      background-color: #E8F0FE;\n",
       "      border: none;\n",
       "      border-radius: 50%;\n",
       "      cursor: pointer;\n",
       "      display: none;\n",
       "      fill: #1967D2;\n",
       "      height: 32px;\n",
       "      padding: 0 0 0 0;\n",
       "      width: 32px;\n",
       "    }\n",
       "\n",
       "    .colab-df-convert:hover {\n",
       "      background-color: #E2EBFA;\n",
       "      box-shadow: 0px 1px 2px rgba(60, 64, 67, 0.3), 0px 1px 3px 1px rgba(60, 64, 67, 0.15);\n",
       "      fill: #174EA6;\n",
       "    }\n",
       "\n",
       "    [theme=dark] .colab-df-convert {\n",
       "      background-color: #3B4455;\n",
       "      fill: #D2E3FC;\n",
       "    }\n",
       "\n",
       "    [theme=dark] .colab-df-convert:hover {\n",
       "      background-color: #434B5C;\n",
       "      box-shadow: 0px 1px 3px 1px rgba(0, 0, 0, 0.15);\n",
       "      filter: drop-shadow(0px 1px 2px rgba(0, 0, 0, 0.3));\n",
       "      fill: #FFFFFF;\n",
       "    }\n",
       "  </style>\n",
       "\n",
       "      <script>\n",
       "        const buttonEl =\n",
       "          document.querySelector('#df-d7b99728-8953-4cc4-9bb1-77bc99529d06 button.colab-df-convert');\n",
       "        buttonEl.style.display =\n",
       "          google.colab.kernel.accessAllowed ? 'block' : 'none';\n",
       "\n",
       "        async function convertToInteractive(key) {\n",
       "          const element = document.querySelector('#df-d7b99728-8953-4cc4-9bb1-77bc99529d06');\n",
       "          const dataTable =\n",
       "            await google.colab.kernel.invokeFunction('convertToInteractive',\n",
       "                                                     [key], {});\n",
       "          if (!dataTable) return;\n",
       "\n",
       "          const docLinkHtml = 'Like what you see? Visit the ' +\n",
       "            '<a target=\"_blank\" href=https://colab.research.google.com/notebooks/data_table.ipynb>data table notebook</a>'\n",
       "            + ' to learn more about interactive tables.';\n",
       "          element.innerHTML = '';\n",
       "          dataTable['output_type'] = 'display_data';\n",
       "          await google.colab.output.renderOutput(dataTable, element);\n",
       "          const docLink = document.createElement('div');\n",
       "          docLink.innerHTML = docLinkHtml;\n",
       "          element.appendChild(docLink);\n",
       "        }\n",
       "      </script>\n",
       "    </div>\n",
       "  </div>\n",
       "  "
      ],
      "text/plain": [
       "   label                                           messages  No_of_Characters  \\\n",
       "0      0                      Ok lar... Joking wif u oni...                29   \n",
       "1      1  Free entry in 2 a wkly comp to win FA Cup fina...               155   \n",
       "2      0  U dun say so early hor... U c already then say...                49   \n",
       "3      0  Nah I don't think he goes to usf, he lives aro...                61   \n",
       "4      1  FreeMsg Hey there darling it's been 3 week's n...               148   \n",
       "\n",
       "   No_of_Words  No_of_sentence  \\\n",
       "0            8               2   \n",
       "1           37               2   \n",
       "2           13               1   \n",
       "3           15               1   \n",
       "4           39               4   \n",
       "\n",
       "                                          Clean_Text  \\\n",
       "0                            ok lar joking wif u oni   \n",
       "1  free entry in a wkly comp to win fa cup final ...   \n",
       "2        u dun say so early hor u c already then say   \n",
       "3  nah i don t think he goes to usf he lives arou...   \n",
       "4  freemsg hey there darling it s been week s now...   \n",
       "\n",
       "                                       Tokenize_Text  \\\n",
       "0                     [ok, lar, joking, wif, u, oni]   \n",
       "1  [free, entry, in, a, wkly, comp, to, win, fa, ...   \n",
       "2  [u, dun, say, so, early, hor, u, c, already, t...   \n",
       "3  [nah, i, don, t, think, he, goes, to, usf, he,...   \n",
       "4  [freemsg, hey, there, darling, it, s, been, we...   \n",
       "\n",
       "                                     Nostopword_Text  \\\n",
       "0                     [ok, lar, joking, wif, u, oni]   \n",
       "1  [free, entry, wkly, comp, win, fa, cup, final,...   \n",
       "2      [u, dun, say, early, hor, u, c, already, say]   \n",
       "3     [nah, think, goes, usf, lives, around, though]   \n",
       "4  [freemsg, hey, darling, week, word, back, like...   \n",
       "\n",
       "                                     Lemmatized_Text  \n",
       "0                       [ok, lar, joke, wif, u, oni]  \n",
       "1  [free, entry, wkly, comp, win, fa, cup, final,...  \n",
       "2      [u, dun, say, early, hor, u, c, already, say]  \n",
       "3        [nah, think, go, usf, live, around, though]  \n",
       "4  [freemsg, hey, darling, week, word, back, like...  "
      ]
     },
     "execution_count": 103,
     "metadata": {},
     "output_type": "execute_result"
    }
   ],
   "source": [
    "#Label encode the Target and use it as y\n",
    "label_encoder = LabelEncoder()\n",
    "df[\"label\"] = label_encoder.fit_transform(df[\"label\"])\n",
    "df.head()"
   ]
  },
  {
   "cell_type": "markdown",
   "metadata": {
    "id": "SESpuTwk-izi"
   },
   "source": [
    "##Model Building"
   ]
  },
  {
   "cell_type": "code",
   "execution_count": null,
   "metadata": {
    "id": "fdT3wY0E-lO1"
   },
   "outputs": [],
   "source": [
    "#Setting values for labels and feature as y and X(we already did X in vectorizing...)\n",
    "y = df[\"label\"] \n",
    "# Splitting the testing and training sets\n",
    "X_train, X_test, y_train, y_test = train_test_split(X, y, test_size=0.2, random_state=42)"
   ]
  },
  {
   "cell_type": "code",
   "execution_count": null,
   "metadata": {
    "colab": {
     "base_uri": "https://localhost:8080/"
    },
    "id": "8Ea7uligFDoN",
    "outputId": "a7eb300e-5761-41ed-b615-6453c5d9407a"
   },
   "outputs": [
    {
     "name": "stdout",
     "output_type": "stream",
     "text": [
      "SVC()\n"
     ]
    }
   ],
   "source": [
    "#Testing on the SVC Model\n",
    "#cls = SVC.fit(X_train, y_train)\n",
    "sv=SVC()\n",
    "\n",
    "clf = sv.fit(X_train, y_train)\n",
    "# Dictionary of pipelines and model types for ease of reference\n",
    "print(clf)"
   ]
  },
  {
   "cell_type": "code",
   "execution_count": null,
   "metadata": {
    "colab": {
     "base_uri": "https://localhost:8080/"
    },
    "id": "hX0V2TB1Gqq1",
    "outputId": "c81b8ea1-f183-4cf0-85b0-72b105366b44"
   },
   "outputs": [
    {
     "name": "stdout",
     "output_type": "stream",
     "text": [
      "SVC: 0.975876 \n"
     ]
    }
   ],
   "source": [
    "# Cossvalidation \n",
    "cv_score = cross_val_score(sv, X_train,y_train,scoring=\"accuracy\", cv=10)\n",
    "print(\"%s: %f \" % (\"SVC\", cv_score.mean()))"
   ]
  },
  {
   "cell_type": "markdown",
   "metadata": {
    "id": "AbGOGbT-HGBR"
   },
   "source": [
    "##Evaluating"
   ]
  },
  {
   "cell_type": "code",
   "execution_count": null,
   "metadata": {
    "id": "Y59iqfihHInq"
   },
   "outputs": [],
   "source": [
    "# Model Evaluation\n",
    "# creating lists of varios scores\n",
    "precision =[]\n",
    "recall =[]\n",
    "f1_score = []\n",
    "trainset_accuracy = []\n",
    "testset_accuracy = []\n",
    "pred_train = clf.predict(X_train)\n",
    "pred_test = clf.predict(X_test)\n",
    "precision = metrics.precision_score(y_test, pred_test)\n",
    "recall = metrics.recall_score(y_test, pred_test)\n",
    "f1_score = metrics.f1_score(y_test, pred_test)\n",
    "trainset_accuracy = clf.score(X_train,y_train)\n",
    "testset_accuracy = clf.score(X_test,y_test)\n",
    "  "
   ]
  },
  {
   "cell_type": "code",
   "execution_count": null,
   "metadata": {
    "colab": {
     "base_uri": "https://localhost:8080/",
     "height": 81
    },
    "id": "Y1HCm_guQ_uH",
    "outputId": "70db0c70-fae9-46cd-f70f-0e8923d2f9cf"
   },
   "outputs": [
    {
     "data": {
      "text/html": [
       "<style type=\"text/css\">\n",
       "#T_c041d_row0_col0, #T_c041d_row0_col1, #T_c041d_row0_col2, #T_c041d_row0_col3, #T_c041d_row0_col4 {\n",
       "  background-color: #4676bd;\n",
       "  color: #f1f1f1;\n",
       "}\n",
       "</style>\n",
       "<table id=\"T_c041d\" class=\"dataframe\">\n",
       "  <thead>\n",
       "    <tr>\n",
       "      <th class=\"blank level0\" >&nbsp;</th>\n",
       "      <th id=\"T_c041d_level0_col0\" class=\"col_heading level0 col0\" >Precision</th>\n",
       "      <th id=\"T_c041d_level0_col1\" class=\"col_heading level0 col1\" >Recall</th>\n",
       "      <th id=\"T_c041d_level0_col2\" class=\"col_heading level0 col2\" >F1score</th>\n",
       "      <th id=\"T_c041d_level0_col3\" class=\"col_heading level0 col3\" >Accuracy on Testset</th>\n",
       "      <th id=\"T_c041d_level0_col4\" class=\"col_heading level0 col4\" >Accuracy on Trainset</th>\n",
       "    </tr>\n",
       "  </thead>\n",
       "  <tbody>\n",
       "    <tr>\n",
       "      <th id=\"T_c041d_level0_row0\" class=\"row_heading level0 row0\" >SVC</th>\n",
       "      <td id=\"T_c041d_row0_col0\" class=\"data row0 col0\" >0.982609</td>\n",
       "      <td id=\"T_c041d_row0_col1\" class=\"data row0 col1\" >0.818841</td>\n",
       "      <td id=\"T_c041d_row0_col2\" class=\"data row0 col2\" >0.893281</td>\n",
       "      <td id=\"T_c041d_row0_col3\" class=\"data row0 col3\" >0.975654</td>\n",
       "      <td id=\"T_c041d_row0_col4\" class=\"data row0 col4\" >0.997520</td>\n",
       "    </tr>\n",
       "  </tbody>\n",
       "</table>\n"
      ],
      "text/plain": [
       "<pandas.io.formats.style.Styler at 0x7f041030ff70>"
      ]
     },
     "execution_count": 108,
     "metadata": {},
     "output_type": "execute_result"
    }
   ],
   "source": [
    "# initialise data of lists.\n",
    "data = {'Precision':precision,\n",
    "'Recall':recall,\n",
    "'F1score':f1_score,\n",
    "'Accuracy on Testset':testset_accuracy,\n",
    "'Accuracy on Trainset':trainset_accuracy}\n",
    "# Creates pandas DataFrame.\n",
    "Results = pd.DataFrame(data, index =[\"SVC\"])\n",
    "\n",
    "cmap2 = ListedColormap([\"#4676bd\",\"#4676bd\"])\n",
    "Results.style.background_gradient(cmap=cmap2)"
   ]
  },
  {
   "cell_type": "code",
   "execution_count": null,
   "metadata": {
    "colab": {
     "base_uri": "https://localhost:8080/"
    },
    "id": "D4EnCQKthy0V",
    "outputId": "98f302d2-25b6-4da9-edab-390c605071a7"
   },
   "outputs": [
    {
     "name": "stdout",
     "output_type": "stream",
     "text": [
      "0    971\n",
      "1    138\n",
      "Name: label, dtype: int64\n",
      "-------------\n",
      "[[969   2]\n",
      " [ 25 113]]\n"
     ]
    }
   ],
   "source": [
    "print(y_test.value_counts())\n",
    "\n",
    "print (\"-------------\")\n",
    "\n",
    "#confusion matrix\n",
    "print(metrics.confusion_matrix(y_test, pred_test))\n"
   ]
  },
  {
   "cell_type": "code",
   "execution_count": null,
   "metadata": {
    "colab": {
     "base_uri": "https://localhost:8080/"
    },
    "id": "fr50qonmfZR-",
    "outputId": "ba13847f-5b90-4c63-dc12-0bad1a3e2c71"
   },
   "outputs": [
    {
     "name": "stdout",
     "output_type": "stream",
     "text": [
      "True: [0 1 0 0 0 0 0 0 0 0 1 0 0 0 0 0 0 0 0 1 0 0 0 0 0 0 0 1 0 0 0 0 0 0 1 0 1\n",
      " 0 0 0 0 0 0 0 0 0 0 0 1 0]\n",
      "False: [0 1 0 0 0 0 0 0 0 0 1 0 0 0 0 0 0 0 0 1 0 0 0 0 0 0 0 0 0 0 0 0 0 0 1 0 1\n",
      " 0 0 0 0 0 0 0 0 0 0 0 1 0]\n"
     ]
    }
   ],
   "source": [
    "# print the first 50 true and predicted responses\n",
    "print('True:', y_test.values[0:50])\n",
    "print('False:', pred_test[0:50])"
   ]
  }
 ],
 "metadata": {
  "colab": {
   "provenance": []
  },
  "kernelspec": {
   "display_name": "Python 3 (ipykernel)",
   "language": "python",
   "name": "python3"
  },
  "language_info": {
   "codemirror_mode": {
    "name": "ipython",
    "version": 3
   },
   "file_extension": ".py",
   "mimetype": "text/x-python",
   "name": "python",
   "nbconvert_exporter": "python",
   "pygments_lexer": "ipython3",
   "version": "3.11.5"
  }
 },
 "nbformat": 4,
 "nbformat_minor": 1
}
